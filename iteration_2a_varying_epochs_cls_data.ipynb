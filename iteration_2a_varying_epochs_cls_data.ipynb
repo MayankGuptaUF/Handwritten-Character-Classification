{
 "cells": [
  {
   "cell_type": "code",
   "execution_count": 1,
   "metadata": {},
   "outputs": [],
   "source": [
    "import torch \n",
    "import torch.nn as nn\n",
    "import torch.optim as optim\n",
    "import torchvision\n",
    "from torch.utils.data import DataLoader\n",
    "from tqdm import tqdm\n",
    "import datetime\n",
    "from matplotlib import pyplot as plt\n",
    "\n",
    "%matplotlib inline\n",
    "%run ./data_loading.ipynb"
   ]
  },
  {
   "cell_type": "code",
   "execution_count": 2,
   "metadata": {},
   "outputs": [],
   "source": [
    "class Net(nn.Module):\n",
    "    def __init__(self):\n",
    "        super(Net, self).__init__()\n",
    "        self.conv1 = nn.Conv2d(in_channels=1, out_channels=6, kernel_size=3, stride=1, padding=1)\n",
    "        self.conv2 = nn.Conv2d(in_channels=6, out_channels=12, kernel_size=5, stride=1, padding=0)\n",
    "\n",
    "        self.relu = nn.ReLU()\n",
    "        self.pool = nn.MaxPool2d(kernel_size=2, stride=2)\n",
    "        \n",
    "        self.fc1 = nn.Linear(in_features=10*10*12, out_features=300)\n",
    "        self.fc2 = nn.Linear(in_features=300, out_features=60)\n",
    "        self.fc3 = nn.Linear(in_features=60, out_features=9)\n",
    "        \n",
    "    def forward(self, X):\n",
    "        X = self.pool(self.relu(self.conv1(X)))\n",
    "        X = self.pool(self.relu(self.conv2(X)))\n",
    "        X = X.view(-1, 10*10*12)\n",
    "        X = self.relu(self.fc1(X))\n",
    "        X = self.relu(self.fc2(X))\n",
    "        X = self.fc3(X)\n",
    "        return X"
   ]
  },
  {
   "cell_type": "code",
   "execution_count": 3,
   "metadata": {},
   "outputs": [],
   "source": [
    "net = Net().float()\n",
    "if torch.cuda.is_available():\n",
    "    net = net.cuda()\n",
    "loss_f = nn.CrossEntropyLoss()\n",
    "optimizer = optim.SGD(net.parameters(), lr=0.01)"
   ]
  },
  {
   "cell_type": "code",
   "execution_count": 4,
   "metadata": {},
   "outputs": [],
   "source": [
    "# Dividing data into 30% train, 40% val, 30% test\n",
    "cr_train = ClassroomDataset(range_10=[0,5])\n",
    "cr_val = ClassroomDataset(range_10=[5,7])\n",
    "cr_test = ClassroomDataset(range_10=[7,10])"
   ]
  },
  {
   "cell_type": "code",
   "execution_count": 5,
   "metadata": {},
   "outputs": [],
   "source": [
    "def calculate_accuracy(dataloader):\n",
    "    correct = 0\n",
    "    total = 0\n",
    "    with torch.no_grad():\n",
    "        for data in tqdm(dataloader):\n",
    "            images, labels = data\n",
    "            outputs = net(images)\n",
    "            _, predicted = torch.max(outputs.data, 1)\n",
    "            total += labels.size(0)\n",
    "            correct += (predicted == labels).sum().item()\n",
    "    acc = 100 * correct / total\n",
    "    return acc"
   ]
  },
  {
   "cell_type": "code",
   "execution_count": 6,
   "metadata": {},
   "outputs": [],
   "source": [
    "def train(dataset, epochs, batch_size=5, to_cuda=True, calculate_acc=False):\n",
    "    train_acc = []\n",
    "    val_acc = []\n",
    "    if to_cuda:\n",
    "        dataloader = DataLoader(dataset, batch_size=batch_size, shuffle=True, pin_memory=True)\n",
    "    else:\n",
    "        dataloader = DataLoader(dataset, batch_size=batch_size, shuffle=True)\n",
    "    for epoch in range(epochs):\n",
    "        running_loss = 0.0\n",
    "        for i, data in tqdm(enumerate(dataloader, 0)):\n",
    "            inputs, labels = data\n",
    "            if to_cuda:\n",
    "                inputs = inputs.cuda()\n",
    "                labels = labels.cuda()\n",
    "\n",
    "            # zero the parameter gradients\n",
    "            optimizer.zero_grad()\n",
    "\n",
    "            # forward + backward + optimize\n",
    "            outputs = net(inputs)\n",
    "            loss = loss_f(outputs, labels)\n",
    "            loss.backward()\n",
    "            optimizer.step()\n",
    "\n",
    "            # print statistics\n",
    "            running_loss += loss.item()\n",
    "        print('epoch:', epoch, ', loss:', running_loss * batch_size / dataloader.__len__())\n",
    "        if calculate_acc:\n",
    "            t = calculate_accuracy(dataloader)\n",
    "            v = calculate_accuracy(val_loader)\n",
    "            print(\"train acc:\", t, \"val acc:\", v)\n",
    "            train_acc.append(t)\n",
    "            val_acc.append(v)\n",
    "        if epoch % 1 == 0: # every x epochs reshuffle data by creating a new loader\n",
    "            if to_cuda:\n",
    "                dataloader = DataLoader(dataset, batch_size=batch_size, shuffle=True, pin_memory=True)\n",
    "            else:\n",
    "                dataloader = DataLoader(dataset, batch_size=batch_size, shuffle=True)\n",
    "\n",
    "    return train_acc, val_acc"
   ]
  },
  {
   "cell_type": "code",
   "execution_count": 7,
   "metadata": {},
   "outputs": [],
   "source": [
    "val_loader = DataLoader(cr_val, batch_size=1, shuffle=True)"
   ]
  },
  {
   "cell_type": "code",
   "execution_count": 8,
   "metadata": {
    "scrolled": true
   },
   "outputs": [
    {
     "name": "stderr",
     "output_type": "stream",
     "text": [
      "640it [00:03, 164.71it/s]\n",
      "  8%|▊         | 53/640 [00:00<00:01, 522.87it/s]"
     ]
    },
    {
     "name": "stdout",
     "output_type": "stream",
     "text": [
      "epoch: 0 , loss: 7.917245858232491\n"
     ]
    },
    {
     "name": "stderr",
     "output_type": "stream",
     "text": [
      "100%|██████████| 640/640 [00:01<00:00, 492.51it/s]\n",
      "100%|██████████| 1280/1280 [00:02<00:00, 558.85it/s]\n",
      "19it [00:00, 188.86it/s]"
     ]
    },
    {
     "name": "stdout",
     "output_type": "stream",
     "text": [
      "train acc: 73.28125 val acc: 72.34375\n"
     ]
    },
    {
     "name": "stderr",
     "output_type": "stream",
     "text": [
      "640it [00:03, 186.17it/s]\n",
      " 10%|█         | 65/640 [00:00<00:00, 640.96it/s]"
     ]
    },
    {
     "name": "stdout",
     "output_type": "stream",
     "text": [
      "epoch: 1 , loss: 3.420322309495532\n"
     ]
    },
    {
     "name": "stderr",
     "output_type": "stream",
     "text": [
      "100%|██████████| 640/640 [00:01<00:00, 511.35it/s]\n",
      "100%|██████████| 1280/1280 [00:02<00:00, 574.10it/s]\n",
      "15it [00:00, 146.48it/s]"
     ]
    },
    {
     "name": "stdout",
     "output_type": "stream",
     "text": [
      "train acc: 84.03125 val acc: 80.78125\n"
     ]
    },
    {
     "name": "stderr",
     "output_type": "stream",
     "text": [
      "640it [00:04, 159.26it/s]\n",
      " 10%|█         | 65/640 [00:00<00:00, 644.14it/s]"
     ]
    },
    {
     "name": "stdout",
     "output_type": "stream",
     "text": [
      "epoch: 2 , loss: 2.5195165517534406\n"
     ]
    },
    {
     "name": "stderr",
     "output_type": "stream",
     "text": [
      "100%|██████████| 640/640 [00:01<00:00, 624.44it/s]\n",
      "100%|██████████| 1280/1280 [00:01<00:00, 686.73it/s]\n",
      "22it [00:00, 213.26it/s]"
     ]
    },
    {
     "name": "stdout",
     "output_type": "stream",
     "text": [
      "train acc: 88.09375 val acc: 85.703125\n"
     ]
    },
    {
     "name": "stderr",
     "output_type": "stream",
     "text": [
      "640it [00:03, 210.75it/s]\n",
      "  9%|▊         | 55/640 [00:00<00:01, 548.22it/s]"
     ]
    },
    {
     "name": "stdout",
     "output_type": "stream",
     "text": [
      "epoch: 3 , loss: 2.0242391904666874\n"
     ]
    },
    {
     "name": "stderr",
     "output_type": "stream",
     "text": [
      "100%|██████████| 640/640 [00:01<00:00, 508.67it/s]\n",
      "100%|██████████| 1280/1280 [00:02<00:00, 548.96it/s]\n",
      "15it [00:00, 148.55it/s]"
     ]
    },
    {
     "name": "stdout",
     "output_type": "stream",
     "text": [
      "train acc: 89.0 val acc: 85.546875\n"
     ]
    },
    {
     "name": "stderr",
     "output_type": "stream",
     "text": [
      "640it [00:04, 159.92it/s]\n",
      " 10%|█         | 65/640 [00:00<00:00, 649.81it/s]"
     ]
    },
    {
     "name": "stdout",
     "output_type": "stream",
     "text": [
      "epoch: 4 , loss: 1.6216540923319371\n"
     ]
    },
    {
     "name": "stderr",
     "output_type": "stream",
     "text": [
      "100%|██████████| 640/640 [00:01<00:00, 597.17it/s]\n",
      "100%|██████████| 1280/1280 [00:02<00:00, 617.06it/s]\n",
      "16it [00:00, 154.10it/s]"
     ]
    },
    {
     "name": "stdout",
     "output_type": "stream",
     "text": [
      "train acc: 91.90625 val acc: 87.5\n"
     ]
    },
    {
     "name": "stderr",
     "output_type": "stream",
     "text": [
      "640it [00:04, 156.19it/s]\n",
      "  8%|▊         | 53/640 [00:00<00:01, 527.78it/s]"
     ]
    },
    {
     "name": "stdout",
     "output_type": "stream",
     "text": [
      "epoch: 5 , loss: 1.2309556371709505\n"
     ]
    },
    {
     "name": "stderr",
     "output_type": "stream",
     "text": [
      "100%|██████████| 640/640 [00:01<00:00, 493.55it/s]\n",
      "100%|██████████| 1280/1280 [00:01<00:00, 643.35it/s]\n",
      "19it [00:00, 180.01it/s]"
     ]
    },
    {
     "name": "stdout",
     "output_type": "stream",
     "text": [
      "train acc: 94.6875 val acc: 89.0625\n"
     ]
    },
    {
     "name": "stderr",
     "output_type": "stream",
     "text": [
      "640it [00:03, 163.53it/s]\n",
      "  8%|▊         | 50/640 [00:00<00:01, 492.60it/s]"
     ]
    },
    {
     "name": "stdout",
     "output_type": "stream",
     "text": [
      "epoch: 6 , loss: 1.0093069126139085\n"
     ]
    },
    {
     "name": "stderr",
     "output_type": "stream",
     "text": [
      "100%|██████████| 640/640 [00:01<00:00, 465.50it/s]\n",
      "100%|██████████| 1280/1280 [00:02<00:00, 579.50it/s]\n",
      "19it [00:00, 183.22it/s]"
     ]
    },
    {
     "name": "stdout",
     "output_type": "stream",
     "text": [
      "train acc: 94.8125 val acc: 89.21875\n"
     ]
    },
    {
     "name": "stderr",
     "output_type": "stream",
     "text": [
      "640it [00:03, 193.07it/s]\n",
      " 10%|█         | 66/640 [00:00<00:00, 650.26it/s]"
     ]
    },
    {
     "name": "stdout",
     "output_type": "stream",
     "text": [
      "epoch: 7 , loss: 0.7555604883328897\n"
     ]
    },
    {
     "name": "stderr",
     "output_type": "stream",
     "text": [
      "100%|██████████| 640/640 [00:01<00:00, 550.06it/s]\n",
      "100%|██████████| 1280/1280 [00:02<00:00, 559.36it/s]\n",
      "16it [00:00, 152.79it/s]"
     ]
    },
    {
     "name": "stdout",
     "output_type": "stream",
     "text": [
      "train acc: 96.4375 val acc: 90.703125\n"
     ]
    },
    {
     "name": "stderr",
     "output_type": "stream",
     "text": [
      "640it [00:04, 156.87it/s]\n",
      "  8%|▊         | 54/640 [00:00<00:01, 535.85it/s]"
     ]
    },
    {
     "name": "stdout",
     "output_type": "stream",
     "text": [
      "epoch: 8 , loss: 0.5698497145242705\n"
     ]
    },
    {
     "name": "stderr",
     "output_type": "stream",
     "text": [
      "100%|██████████| 640/640 [00:01<00:00, 600.67it/s]\n",
      "100%|██████████| 1280/1280 [00:01<00:00, 657.17it/s]\n",
      "16it [00:00, 151.60it/s]"
     ]
    },
    {
     "name": "stdout",
     "output_type": "stream",
     "text": [
      "train acc: 98.03125 val acc: 90.9375\n"
     ]
    },
    {
     "name": "stderr",
     "output_type": "stream",
     "text": [
      "640it [00:04, 145.57it/s]\n",
      "  8%|▊         | 50/640 [00:00<00:01, 494.04it/s]"
     ]
    },
    {
     "name": "stdout",
     "output_type": "stream",
     "text": [
      "epoch: 9 , loss: 0.42603648253164117\n"
     ]
    },
    {
     "name": "stderr",
     "output_type": "stream",
     "text": [
      "100%|██████████| 640/640 [00:01<00:00, 481.25it/s]\n",
      "100%|██████████| 1280/1280 [00:01<00:00, 644.76it/s]\n",
      "20it [00:00, 198.86it/s]"
     ]
    },
    {
     "name": "stdout",
     "output_type": "stream",
     "text": [
      "train acc: 96.40625 val acc: 89.765625\n"
     ]
    },
    {
     "name": "stderr",
     "output_type": "stream",
     "text": [
      "640it [00:03, 176.18it/s]\n",
      "  8%|▊         | 53/640 [00:00<00:01, 522.28it/s]"
     ]
    },
    {
     "name": "stdout",
     "output_type": "stream",
     "text": [
      "epoch: 10 , loss: 0.47310558230234534\n"
     ]
    },
    {
     "name": "stderr",
     "output_type": "stream",
     "text": [
      "100%|██████████| 640/640 [00:01<00:00, 505.84it/s]\n",
      "100%|██████████| 1280/1280 [00:02<00:00, 565.41it/s]\n",
      "15it [00:00, 148.10it/s]"
     ]
    },
    {
     "name": "stdout",
     "output_type": "stream",
     "text": [
      "train acc: 97.0 val acc: 89.53125\n"
     ]
    },
    {
     "name": "stderr",
     "output_type": "stream",
     "text": [
      "640it [00:03, 184.79it/s]\n",
      " 10%|▉         | 63/640 [00:00<00:00, 620.69it/s]"
     ]
    },
    {
     "name": "stdout",
     "output_type": "stream",
     "text": [
      "epoch: 11 , loss: 0.2588874798463836\n"
     ]
    },
    {
     "name": "stderr",
     "output_type": "stream",
     "text": [
      "100%|██████████| 640/640 [00:01<00:00, 601.98it/s]\n",
      "100%|██████████| 1280/1280 [00:02<00:00, 569.22it/s]\n",
      "15it [00:00, 145.78it/s]"
     ]
    },
    {
     "name": "stdout",
     "output_type": "stream",
     "text": [
      "train acc: 99.21875 val acc: 91.71875\n"
     ]
    },
    {
     "name": "stderr",
     "output_type": "stream",
     "text": [
      "640it [00:04, 148.95it/s]\n",
      "  9%|▉         | 56/640 [00:00<00:01, 550.23it/s]"
     ]
    },
    {
     "name": "stdout",
     "output_type": "stream",
     "text": [
      "epoch: 12 , loss: 0.2262570507563164\n"
     ]
    },
    {
     "name": "stderr",
     "output_type": "stream",
     "text": [
      "100%|██████████| 640/640 [00:01<00:00, 544.98it/s]\n",
      "100%|██████████| 1280/1280 [00:01<00:00, 677.87it/s]\n",
      "20it [00:00, 199.91it/s]"
     ]
    },
    {
     "name": "stdout",
     "output_type": "stream",
     "text": [
      "train acc: 99.375 val acc: 91.640625\n"
     ]
    },
    {
     "name": "stderr",
     "output_type": "stream",
     "text": [
      "640it [00:03, 160.05it/s]\n",
      "  8%|▊         | 52/640 [00:00<00:01, 510.12it/s]"
     ]
    },
    {
     "name": "stdout",
     "output_type": "stream",
     "text": [
      "epoch: 13 , loss: 0.16430891333675923\n"
     ]
    },
    {
     "name": "stderr",
     "output_type": "stream",
     "text": [
      "100%|██████████| 640/640 [00:01<00:00, 482.53it/s]\n",
      "100%|██████████| 1280/1280 [00:02<00:00, 611.36it/s]\n",
      "18it [00:00, 176.96it/s]"
     ]
    },
    {
     "name": "stdout",
     "output_type": "stream",
     "text": [
      "train acc: 99.65625 val acc: 92.5\n"
     ]
    },
    {
     "name": "stderr",
     "output_type": "stream",
     "text": [
      "640it [00:03, 186.05it/s]\n",
      "  8%|▊         | 53/640 [00:00<00:01, 524.66it/s]"
     ]
    },
    {
     "name": "stdout",
     "output_type": "stream",
     "text": [
      "epoch: 14 , loss: 0.10722656181123735\n"
     ]
    },
    {
     "name": "stderr",
     "output_type": "stream",
     "text": [
      "100%|██████████| 640/640 [00:01<00:00, 530.37it/s]\n",
      "100%|██████████| 1280/1280 [00:02<00:00, 564.99it/s]\n",
      "16it [00:00, 150.31it/s]"
     ]
    },
    {
     "name": "stdout",
     "output_type": "stream",
     "text": [
      "train acc: 99.84375 val acc: 91.25\n"
     ]
    },
    {
     "name": "stderr",
     "output_type": "stream",
     "text": [
      "640it [00:03, 161.98it/s]\n",
      " 10%|█         | 65/640 [00:00<00:00, 645.48it/s]"
     ]
    },
    {
     "name": "stdout",
     "output_type": "stream",
     "text": [
      "epoch: 15 , loss: 0.06811588038284744\n"
     ]
    },
    {
     "name": "stderr",
     "output_type": "stream",
     "text": [
      "100%|██████████| 640/640 [00:01<00:00, 603.32it/s]\n",
      "100%|██████████| 1280/1280 [00:02<00:00, 610.58it/s]\n",
      "16it [00:00, 154.29it/s]"
     ]
    },
    {
     "name": "stdout",
     "output_type": "stream",
     "text": [
      "train acc: 99.84375 val acc: 91.171875\n"
     ]
    },
    {
     "name": "stderr",
     "output_type": "stream",
     "text": [
      "640it [00:04, 155.59it/s]\n",
      "  8%|▊         | 54/640 [00:00<00:01, 535.25it/s]"
     ]
    },
    {
     "name": "stdout",
     "output_type": "stream",
     "text": [
      "epoch: 16 , loss: 0.05058119580894771\n"
     ]
    },
    {
     "name": "stderr",
     "output_type": "stream",
     "text": [
      "100%|██████████| 640/640 [00:01<00:00, 517.18it/s]\n",
      "100%|██████████| 1280/1280 [00:01<00:00, 643.96it/s]\n",
      "21it [00:00, 200.37it/s]"
     ]
    },
    {
     "name": "stdout",
     "output_type": "stream",
     "text": [
      "train acc: 99.875 val acc: 91.640625\n"
     ]
    },
    {
     "name": "stderr",
     "output_type": "stream",
     "text": [
      "640it [00:03, 163.48it/s]\n",
      "  8%|▊         | 50/640 [00:00<00:01, 492.93it/s]"
     ]
    },
    {
     "name": "stdout",
     "output_type": "stream",
     "text": [
      "epoch: 17 , loss: 0.03877978405967997\n"
     ]
    },
    {
     "name": "stderr",
     "output_type": "stream",
     "text": [
      "100%|██████████| 640/640 [00:01<00:00, 480.24it/s]\n",
      "100%|██████████| 1280/1280 [00:02<00:00, 581.68it/s]\n",
      "19it [00:00, 185.02it/s]"
     ]
    },
    {
     "name": "stdout",
     "output_type": "stream",
     "text": [
      "train acc: 99.96875 val acc: 92.03125\n"
     ]
    },
    {
     "name": "stderr",
     "output_type": "stream",
     "text": [
      "640it [00:03, 188.51it/s]\n",
      " 10%|▉         | 62/640 [00:00<00:00, 617.84it/s]"
     ]
    },
    {
     "name": "stdout",
     "output_type": "stream",
     "text": [
      "epoch: 18 , loss: 0.030624134737924025\n"
     ]
    },
    {
     "name": "stderr",
     "output_type": "stream",
     "text": [
      "100%|██████████| 640/640 [00:01<00:00, 491.77it/s]\n",
      "100%|██████████| 1280/1280 [00:02<00:00, 564.16it/s]\n",
      "16it [00:00, 159.21it/s]"
     ]
    },
    {
     "name": "stdout",
     "output_type": "stream",
     "text": [
      "train acc: 99.96875 val acc: 91.640625\n"
     ]
    },
    {
     "name": "stderr",
     "output_type": "stream",
     "text": [
      "640it [00:04, 156.12it/s]\n",
      " 10%|█         | 64/640 [00:00<00:00, 635.21it/s]"
     ]
    },
    {
     "name": "stdout",
     "output_type": "stream",
     "text": [
      "epoch: 19 , loss: 0.022180157899216235\n"
     ]
    },
    {
     "name": "stderr",
     "output_type": "stream",
     "text": [
      "100%|██████████| 640/640 [00:01<00:00, 597.08it/s]\n",
      "100%|██████████| 1280/1280 [00:02<00:00, 599.84it/s]\n",
      "15it [00:00, 149.30it/s]"
     ]
    },
    {
     "name": "stdout",
     "output_type": "stream",
     "text": [
      "train acc: 99.90625 val acc: 91.5625\n"
     ]
    },
    {
     "name": "stderr",
     "output_type": "stream",
     "text": [
      "640it [00:04, 143.11it/s]\n",
      "  8%|▊         | 48/640 [00:00<00:01, 479.68it/s]"
     ]
    },
    {
     "name": "stdout",
     "output_type": "stream",
     "text": [
      "epoch: 20 , loss: 0.023758588170607498\n"
     ]
    },
    {
     "name": "stderr",
     "output_type": "stream",
     "text": [
      "100%|██████████| 640/640 [00:01<00:00, 496.34it/s]\n",
      "100%|██████████| 1280/1280 [00:01<00:00, 646.33it/s]\n",
      "20it [00:00, 197.25it/s]"
     ]
    },
    {
     "name": "stdout",
     "output_type": "stream",
     "text": [
      "train acc: 99.96875 val acc: 91.875\n"
     ]
    },
    {
     "name": "stderr",
     "output_type": "stream",
     "text": [
      "640it [00:04, 156.23it/s]\n",
      "  8%|▊         | 51/640 [00:00<00:01, 504.75it/s]"
     ]
    },
    {
     "name": "stdout",
     "output_type": "stream",
     "text": [
      "epoch: 21 , loss: 0.01817114974648626\n"
     ]
    },
    {
     "name": "stderr",
     "output_type": "stream",
     "text": [
      "100%|██████████| 640/640 [00:01<00:00, 481.93it/s]\n",
      "100%|██████████| 1280/1280 [00:02<00:00, 583.70it/s]\n",
      "19it [00:00, 187.83it/s]"
     ]
    },
    {
     "name": "stdout",
     "output_type": "stream",
     "text": [
      "train acc: 99.96875 val acc: 92.03125\n"
     ]
    },
    {
     "name": "stderr",
     "output_type": "stream",
     "text": [
      "640it [00:03, 185.58it/s]\n",
      "  8%|▊         | 53/640 [00:00<00:01, 509.89it/s]"
     ]
    },
    {
     "name": "stdout",
     "output_type": "stream",
     "text": [
      "epoch: 22 , loss: 0.017683834448354085\n"
     ]
    },
    {
     "name": "stderr",
     "output_type": "stream",
     "text": [
      "100%|██████████| 640/640 [00:01<00:00, 508.24it/s]\n",
      "100%|██████████| 1280/1280 [00:02<00:00, 606.36it/s]\n",
      "16it [00:00, 155.69it/s]"
     ]
    },
    {
     "name": "stdout",
     "output_type": "stream",
     "text": [
      "train acc: 99.96875 val acc: 91.5625\n"
     ]
    },
    {
     "name": "stderr",
     "output_type": "stream",
     "text": [
      "640it [00:03, 183.94it/s]\n",
      " 12%|█▏        | 76/640 [00:00<00:00, 753.34it/s]"
     ]
    },
    {
     "name": "stdout",
     "output_type": "stream",
     "text": [
      "epoch: 23 , loss: 0.015623764524978156\n"
     ]
    },
    {
     "name": "stderr",
     "output_type": "stream",
     "text": [
      "100%|██████████| 640/640 [00:00<00:00, 713.02it/s]\n",
      "100%|██████████| 1280/1280 [00:01<00:00, 746.80it/s]\n",
      "22it [00:00, 219.83it/s]"
     ]
    },
    {
     "name": "stdout",
     "output_type": "stream",
     "text": [
      "train acc: 99.9375 val acc: 91.40625\n"
     ]
    },
    {
     "name": "stderr",
     "output_type": "stream",
     "text": [
      "640it [00:02, 219.29it/s]\n",
      " 10%|█         | 66/640 [00:00<00:00, 657.36it/s]"
     ]
    },
    {
     "name": "stdout",
     "output_type": "stream",
     "text": [
      "epoch: 24 , loss: 0.016278464957889538\n"
     ]
    },
    {
     "name": "stderr",
     "output_type": "stream",
     "text": [
      "100%|██████████| 640/640 [00:01<00:00, 632.11it/s]\n",
      "100%|██████████| 1280/1280 [00:01<00:00, 705.23it/s]\n",
      "22it [00:00, 210.97it/s]"
     ]
    },
    {
     "name": "stdout",
     "output_type": "stream",
     "text": [
      "train acc: 99.96875 val acc: 91.5625\n"
     ]
    },
    {
     "name": "stderr",
     "output_type": "stream",
     "text": [
      "640it [00:02, 215.80it/s]\n",
      " 15%|█▌        | 98/640 [00:00<00:00, 973.11it/s]"
     ]
    },
    {
     "name": "stdout",
     "output_type": "stream",
     "text": [
      "epoch: 25 , loss: 0.015227213666312744\n"
     ]
    },
    {
     "name": "stderr",
     "output_type": "stream",
     "text": [
      "100%|██████████| 640/640 [00:00<00:00, 1017.34it/s]\n",
      "100%|██████████| 1280/1280 [00:01<00:00, 1070.30it/s]\n",
      "28it [00:00, 277.49it/s]"
     ]
    },
    {
     "name": "stdout",
     "output_type": "stream",
     "text": [
      "train acc: 99.9375 val acc: 91.25\n"
     ]
    },
    {
     "name": "stderr",
     "output_type": "stream",
     "text": [
      "640it [00:02, 264.66it/s]\n",
      " 15%|█▌        | 98/640 [00:00<00:00, 974.08it/s]"
     ]
    },
    {
     "name": "stdout",
     "output_type": "stream",
     "text": [
      "epoch: 26 , loss: 0.01226532940920344\n"
     ]
    },
    {
     "name": "stderr",
     "output_type": "stream",
     "text": [
      "100%|██████████| 640/640 [00:00<00:00, 955.54it/s]\n",
      "100%|██████████| 1280/1280 [00:01<00:00, 1002.52it/s]\n",
      "27it [00:00, 265.16it/s]"
     ]
    },
    {
     "name": "stdout",
     "output_type": "stream",
     "text": [
      "train acc: 99.96875 val acc: 91.71875\n"
     ]
    },
    {
     "name": "stderr",
     "output_type": "stream",
     "text": [
      "640it [00:02, 261.52it/s]\n",
      " 15%|█▍        | 95/640 [00:00<00:00, 941.68it/s]"
     ]
    },
    {
     "name": "stdout",
     "output_type": "stream",
     "text": [
      "epoch: 27 , loss: 0.011340002021657414\n"
     ]
    },
    {
     "name": "stderr",
     "output_type": "stream",
     "text": [
      "100%|██████████| 640/640 [00:00<00:00, 951.54it/s]\n",
      "100%|██████████| 1280/1280 [00:01<00:00, 983.61it/s]\n",
      "29it [00:00, 284.47it/s]"
     ]
    },
    {
     "name": "stdout",
     "output_type": "stream",
     "text": [
      "train acc: 99.96875 val acc: 91.875\n"
     ]
    },
    {
     "name": "stderr",
     "output_type": "stream",
     "text": [
      "640it [00:02, 261.98it/s]\n",
      " 14%|█▍        | 91/640 [00:00<00:00, 899.65it/s]"
     ]
    },
    {
     "name": "stdout",
     "output_type": "stream",
     "text": [
      "epoch: 28 , loss: 0.009452605620100085\n"
     ]
    },
    {
     "name": "stderr",
     "output_type": "stream",
     "text": [
      "100%|██████████| 640/640 [00:00<00:00, 960.09it/s]\n",
      "100%|██████████| 1280/1280 [00:01<00:00, 1054.03it/s]\n",
      "26it [00:00, 258.01it/s]"
     ]
    },
    {
     "name": "stdout",
     "output_type": "stream",
     "text": [
      "train acc: 100.0 val acc: 91.640625\n"
     ]
    },
    {
     "name": "stderr",
     "output_type": "stream",
     "text": [
      "640it [00:02, 255.33it/s]\n",
      " 15%|█▍        | 95/640 [00:00<00:00, 949.42it/s]"
     ]
    },
    {
     "name": "stdout",
     "output_type": "stream",
     "text": [
      "epoch: 29 , loss: 0.008489812500995786\n"
     ]
    },
    {
     "name": "stderr",
     "output_type": "stream",
     "text": [
      "100%|██████████| 640/640 [00:00<00:00, 895.31it/s]\n",
      "100%|██████████| 1280/1280 [00:01<00:00, 954.10it/s]\n",
      "27it [00:00, 266.94it/s]"
     ]
    },
    {
     "name": "stdout",
     "output_type": "stream",
     "text": [
      "train acc: 100.0 val acc: 91.40625\n"
     ]
    },
    {
     "name": "stderr",
     "output_type": "stream",
     "text": [
      "640it [00:02, 254.87it/s]\n",
      " 16%|█▋        | 104/640 [00:00<00:00, 1039.11it/s]"
     ]
    },
    {
     "name": "stdout",
     "output_type": "stream",
     "text": [
      "epoch: 30 , loss: 0.00915052707279429\n"
     ]
    },
    {
     "name": "stderr",
     "output_type": "stream",
     "text": [
      "100%|██████████| 640/640 [00:00<00:00, 966.44it/s] \n",
      "100%|██████████| 1280/1280 [00:01<00:00, 990.13it/s] \n",
      "28it [00:00, 272.93it/s]"
     ]
    },
    {
     "name": "stdout",
     "output_type": "stream",
     "text": [
      "train acc: 99.96875 val acc: 91.5625\n"
     ]
    },
    {
     "name": "stderr",
     "output_type": "stream",
     "text": [
      "640it [00:02, 253.26it/s]\n",
      " 15%|█▌        | 99/640 [00:00<00:00, 985.24it/s]"
     ]
    },
    {
     "name": "stdout",
     "output_type": "stream",
     "text": [
      "epoch: 31 , loss: 0.00740171712601656\n"
     ]
    },
    {
     "name": "stderr",
     "output_type": "stream",
     "text": [
      "100%|██████████| 640/640 [00:00<00:00, 973.32it/s]\n",
      "100%|██████████| 1280/1280 [00:01<00:00, 1036.77it/s]\n",
      "29it [00:00, 283.31it/s]"
     ]
    },
    {
     "name": "stdout",
     "output_type": "stream",
     "text": [
      "train acc: 99.96875 val acc: 91.640625\n"
     ]
    },
    {
     "name": "stderr",
     "output_type": "stream",
     "text": [
      "640it [00:02, 253.04it/s]\n",
      " 15%|█▍        | 94/640 [00:00<00:00, 936.80it/s]"
     ]
    },
    {
     "name": "stdout",
     "output_type": "stream",
     "text": [
      "epoch: 32 , loss: 0.009011211721486667\n"
     ]
    },
    {
     "name": "stderr",
     "output_type": "stream",
     "text": [
      "100%|██████████| 640/640 [00:00<00:00, 912.59it/s]\n",
      "100%|██████████| 1280/1280 [00:01<00:00, 1003.85it/s]\n",
      "26it [00:00, 256.47it/s]"
     ]
    },
    {
     "name": "stdout",
     "output_type": "stream",
     "text": [
      "train acc: 99.96875 val acc: 91.640625\n"
     ]
    },
    {
     "name": "stderr",
     "output_type": "stream",
     "text": [
      "640it [00:02, 257.60it/s]\n",
      " 15%|█▌        | 98/640 [00:00<00:00, 972.68it/s]"
     ]
    },
    {
     "name": "stdout",
     "output_type": "stream",
     "text": [
      "epoch: 33 , loss: 0.00640824732232903\n"
     ]
    },
    {
     "name": "stderr",
     "output_type": "stream",
     "text": [
      "100%|██████████| 640/640 [00:00<00:00, 876.45it/s]\n",
      "100%|██████████| 1280/1280 [00:01<00:00, 930.06it/s] \n",
      "27it [00:00, 264.85it/s]"
     ]
    },
    {
     "name": "stdout",
     "output_type": "stream",
     "text": [
      "train acc: 99.96875 val acc: 91.5625\n"
     ]
    },
    {
     "name": "stderr",
     "output_type": "stream",
     "text": [
      "640it [00:02, 260.52it/s]\n",
      " 16%|█▌        | 102/640 [00:00<00:00, 1011.68it/s]"
     ]
    },
    {
     "name": "stdout",
     "output_type": "stream",
     "text": [
      "epoch: 34 , loss: 0.006163699854776938\n"
     ]
    },
    {
     "name": "stderr",
     "output_type": "stream",
     "text": [
      "100%|██████████| 640/640 [00:00<00:00, 930.10it/s] \n",
      "100%|██████████| 1280/1280 [00:01<00:00, 1005.73it/s]\n",
      "27it [00:00, 267.13it/s]"
     ]
    },
    {
     "name": "stdout",
     "output_type": "stream",
     "text": [
      "train acc: 99.96875 val acc: 91.5625\n"
     ]
    },
    {
     "name": "stderr",
     "output_type": "stream",
     "text": [
      "640it [00:02, 239.36it/s]\n",
      " 15%|█▌        | 98/640 [00:00<00:00, 972.36it/s]"
     ]
    },
    {
     "name": "stdout",
     "output_type": "stream",
     "text": [
      "epoch: 35 , loss: 0.008897456204147947\n"
     ]
    },
    {
     "name": "stderr",
     "output_type": "stream",
     "text": [
      "100%|██████████| 640/640 [00:00<00:00, 956.74it/s]\n",
      "100%|██████████| 1280/1280 [00:01<00:00, 1037.17it/s]\n",
      "28it [00:00, 272.44it/s]"
     ]
    },
    {
     "name": "stdout",
     "output_type": "stream",
     "text": [
      "train acc: 99.96875 val acc: 91.71875\n"
     ]
    },
    {
     "name": "stderr",
     "output_type": "stream",
     "text": [
      "640it [00:02, 266.06it/s]\n",
      " 16%|█▋        | 105/640 [00:00<00:00, 1049.65it/s]"
     ]
    },
    {
     "name": "stdout",
     "output_type": "stream",
     "text": [
      "epoch: 36 , loss: 0.010038152995493821\n"
     ]
    },
    {
     "name": "stderr",
     "output_type": "stream",
     "text": [
      "100%|██████████| 640/640 [00:00<00:00, 954.54it/s] \n",
      "100%|██████████| 1280/1280 [00:01<00:00, 1016.31it/s]\n",
      "27it [00:00, 269.91it/s]"
     ]
    },
    {
     "name": "stdout",
     "output_type": "stream",
     "text": [
      "train acc: 100.0 val acc: 91.640625\n"
     ]
    },
    {
     "name": "stderr",
     "output_type": "stream",
     "text": [
      "640it [00:02, 256.57it/s]\n",
      " 13%|█▎        | 85/640 [00:00<00:00, 839.96it/s]"
     ]
    },
    {
     "name": "stdout",
     "output_type": "stream",
     "text": [
      "epoch: 37 , loss: 0.004650882657367017\n"
     ]
    },
    {
     "name": "stderr",
     "output_type": "stream",
     "text": [
      "100%|██████████| 640/640 [00:00<00:00, 929.07it/s]\n",
      "100%|██████████| 1280/1280 [00:01<00:00, 983.28it/s] \n",
      "27it [00:00, 264.24it/s]"
     ]
    },
    {
     "name": "stdout",
     "output_type": "stream",
     "text": [
      "train acc: 100.0 val acc: 91.640625\n"
     ]
    },
    {
     "name": "stderr",
     "output_type": "stream",
     "text": [
      "640it [00:02, 259.38it/s]\n",
      " 15%|█▌        | 97/640 [00:00<00:00, 952.86it/s]"
     ]
    },
    {
     "name": "stdout",
     "output_type": "stream",
     "text": [
      "epoch: 38 , loss: 0.004683510989644812\n"
     ]
    },
    {
     "name": "stderr",
     "output_type": "stream",
     "text": [
      "100%|██████████| 640/640 [00:00<00:00, 971.40it/s]\n",
      "100%|██████████| 1280/1280 [00:01<00:00, 1020.36it/s]\n",
      "29it [00:00, 280.77it/s]"
     ]
    },
    {
     "name": "stdout",
     "output_type": "stream",
     "text": [
      "train acc: 100.0 val acc: 91.640625\n"
     ]
    },
    {
     "name": "stderr",
     "output_type": "stream",
     "text": [
      "640it [00:02, 258.78it/s]\n",
      " 15%|█▌        | 99/640 [00:00<00:00, 978.97it/s]"
     ]
    },
    {
     "name": "stdout",
     "output_type": "stream",
     "text": [
      "epoch: 39 , loss: 0.00447759254783886\n"
     ]
    },
    {
     "name": "stderr",
     "output_type": "stream",
     "text": [
      "100%|██████████| 640/640 [00:00<00:00, 926.62it/s]\n",
      "100%|██████████| 1280/1280 [00:01<00:00, 994.70it/s] \n",
      "27it [00:00, 262.43it/s]"
     ]
    },
    {
     "name": "stdout",
     "output_type": "stream",
     "text": [
      "train acc: 100.0 val acc: 91.5625\n"
     ]
    },
    {
     "name": "stderr",
     "output_type": "stream",
     "text": [
      "640it [00:02, 254.45it/s]\n",
      " 13%|█▎        | 84/640 [00:00<00:00, 832.99it/s]"
     ]
    },
    {
     "name": "stdout",
     "output_type": "stream",
     "text": [
      "epoch: 40 , loss: 0.0042081560690254705\n"
     ]
    },
    {
     "name": "stderr",
     "output_type": "stream",
     "text": [
      "100%|██████████| 640/640 [00:00<00:00, 941.71it/s]\n",
      "100%|██████████| 1280/1280 [00:01<00:00, 971.79it/s]\n",
      "26it [00:00, 259.30it/s]"
     ]
    },
    {
     "name": "stdout",
     "output_type": "stream",
     "text": [
      "train acc: 100.0 val acc: 91.640625\n"
     ]
    },
    {
     "name": "stderr",
     "output_type": "stream",
     "text": [
      "640it [00:02, 264.00it/s]\n",
      " 15%|█▌        | 97/640 [00:00<00:00, 956.17it/s]"
     ]
    },
    {
     "name": "stdout",
     "output_type": "stream",
     "text": [
      "epoch: 41 , loss: 0.003367715355444334\n"
     ]
    },
    {
     "name": "stderr",
     "output_type": "stream",
     "text": [
      "100%|██████████| 640/640 [00:00<00:00, 958.37it/s]\n",
      "100%|██████████| 1280/1280 [00:01<00:00, 1029.71it/s]\n",
      "26it [00:00, 259.11it/s]"
     ]
    },
    {
     "name": "stdout",
     "output_type": "stream",
     "text": [
      "train acc: 100.0 val acc: 91.640625\n"
     ]
    },
    {
     "name": "stderr",
     "output_type": "stream",
     "text": [
      "640it [00:02, 253.51it/s]\n",
      " 14%|█▍        | 89/640 [00:00<00:00, 875.19it/s]"
     ]
    },
    {
     "name": "stdout",
     "output_type": "stream",
     "text": [
      "epoch: 42 , loss: 0.0035442612973219934\n"
     ]
    },
    {
     "name": "stderr",
     "output_type": "stream",
     "text": [
      "100%|██████████| 640/640 [00:00<00:00, 941.98it/s]\n",
      "100%|██████████| 1280/1280 [00:01<00:00, 1017.06it/s]\n",
      "29it [00:00, 286.97it/s]"
     ]
    },
    {
     "name": "stdout",
     "output_type": "stream",
     "text": [
      "train acc: 100.0 val acc: 91.640625\n"
     ]
    },
    {
     "name": "stderr",
     "output_type": "stream",
     "text": [
      "640it [00:02, 260.53it/s]\n",
      " 15%|█▌        | 97/640 [00:00<00:00, 965.26it/s]"
     ]
    },
    {
     "name": "stdout",
     "output_type": "stream",
     "text": [
      "epoch: 43 , loss: 0.002875204391624031\n"
     ]
    },
    {
     "name": "stderr",
     "output_type": "stream",
     "text": [
      "100%|██████████| 640/640 [00:00<00:00, 945.39it/s]\n",
      "100%|██████████| 1280/1280 [00:01<00:00, 1035.51it/s]\n",
      "29it [00:00, 282.58it/s]"
     ]
    },
    {
     "name": "stdout",
     "output_type": "stream",
     "text": [
      "train acc: 100.0 val acc: 91.484375\n"
     ]
    },
    {
     "name": "stderr",
     "output_type": "stream",
     "text": [
      "640it [00:02, 258.03it/s]\n",
      " 17%|█▋        | 107/640 [00:00<00:00, 1069.98it/s]"
     ]
    },
    {
     "name": "stdout",
     "output_type": "stream",
     "text": [
      "epoch: 44 , loss: 0.0028077527674437164\n"
     ]
    },
    {
     "name": "stderr",
     "output_type": "stream",
     "text": [
      "100%|██████████| 640/640 [00:00<00:00, 985.57it/s] \n",
      "100%|██████████| 1280/1280 [00:01<00:00, 1052.08it/s]\n",
      "29it [00:00, 281.77it/s]"
     ]
    },
    {
     "name": "stdout",
     "output_type": "stream",
     "text": [
      "train acc: 100.0 val acc: 91.484375\n"
     ]
    },
    {
     "name": "stderr",
     "output_type": "stream",
     "text": [
      "640it [00:02, 261.09it/s]\n",
      " 14%|█▎        | 87/640 [00:00<00:00, 864.34it/s]"
     ]
    },
    {
     "name": "stdout",
     "output_type": "stream",
     "text": [
      "epoch: 45 , loss: 0.0028810583321983163\n"
     ]
    },
    {
     "name": "stderr",
     "output_type": "stream",
     "text": [
      "100%|██████████| 640/640 [00:00<00:00, 919.75it/s]\n",
      "100%|██████████| 1280/1280 [00:01<00:00, 1019.28it/s]\n",
      "27it [00:00, 257.78it/s]"
     ]
    },
    {
     "name": "stdout",
     "output_type": "stream",
     "text": [
      "train acc: 99.96875 val acc: 91.484375\n"
     ]
    },
    {
     "name": "stderr",
     "output_type": "stream",
     "text": [
      "640it [00:02, 248.38it/s]\n",
      " 14%|█▎        | 87/640 [00:00<00:00, 867.72it/s]"
     ]
    },
    {
     "name": "stdout",
     "output_type": "stream",
     "text": [
      "epoch: 46 , loss: 0.0032264396340546675\n"
     ]
    },
    {
     "name": "stderr",
     "output_type": "stream",
     "text": [
      "100%|██████████| 640/640 [00:00<00:00, 926.25it/s]\n",
      "100%|██████████| 1280/1280 [00:01<00:00, 1028.12it/s]\n",
      "27it [00:00, 263.27it/s]"
     ]
    },
    {
     "name": "stdout",
     "output_type": "stream",
     "text": [
      "train acc: 99.96875 val acc: 91.484375\n"
     ]
    },
    {
     "name": "stderr",
     "output_type": "stream",
     "text": [
      "640it [00:02, 255.89it/s]\n",
      " 13%|█▎        | 86/640 [00:00<00:00, 856.30it/s]"
     ]
    },
    {
     "name": "stdout",
     "output_type": "stream",
     "text": [
      "epoch: 47 , loss: 0.005256605143053816\n"
     ]
    },
    {
     "name": "stderr",
     "output_type": "stream",
     "text": [
      "100%|██████████| 640/640 [00:00<00:00, 922.11it/s]\n",
      "100%|██████████| 1280/1280 [00:01<00:00, 984.57it/s]\n",
      "26it [00:00, 259.00it/s]"
     ]
    },
    {
     "name": "stdout",
     "output_type": "stream",
     "text": [
      "train acc: 99.96875 val acc: 91.484375\n"
     ]
    },
    {
     "name": "stderr",
     "output_type": "stream",
     "text": [
      "640it [00:02, 257.83it/s]\n",
      " 15%|█▍        | 93/640 [00:00<00:00, 923.78it/s]"
     ]
    },
    {
     "name": "stdout",
     "output_type": "stream",
     "text": [
      "epoch: 48 , loss: 0.005526579646249585\n"
     ]
    },
    {
     "name": "stderr",
     "output_type": "stream",
     "text": [
      "100%|██████████| 640/640 [00:00<00:00, 943.04it/s]\n",
      "100%|██████████| 1280/1280 [00:01<00:00, 1019.25it/s]\n",
      "29it [00:00, 287.65it/s]"
     ]
    },
    {
     "name": "stdout",
     "output_type": "stream",
     "text": [
      "train acc: 99.96875 val acc: 91.484375\n"
     ]
    },
    {
     "name": "stderr",
     "output_type": "stream",
     "text": [
      "640it [00:02, 265.45it/s]\n",
      " 16%|█▌        | 100/640 [00:00<00:00, 996.13it/s]"
     ]
    },
    {
     "name": "stdout",
     "output_type": "stream",
     "text": [
      "epoch: 49 , loss: 0.003293248957837669\n"
     ]
    },
    {
     "name": "stderr",
     "output_type": "stream",
     "text": [
      "100%|██████████| 640/640 [00:00<00:00, 973.14it/s] \n",
      "100%|██████████| 1280/1280 [00:01<00:00, 1000.43it/s]\n",
      "28it [00:00, 278.59it/s]"
     ]
    },
    {
     "name": "stdout",
     "output_type": "stream",
     "text": [
      "train acc: 100.0 val acc: 91.328125\n"
     ]
    },
    {
     "name": "stderr",
     "output_type": "stream",
     "text": [
      "640it [00:02, 258.23it/s]\n",
      " 15%|█▍        | 95/640 [00:00<00:00, 943.24it/s]"
     ]
    },
    {
     "name": "stdout",
     "output_type": "stream",
     "text": [
      "epoch: 50 , loss: 0.002440439939918937\n"
     ]
    },
    {
     "name": "stderr",
     "output_type": "stream",
     "text": [
      "100%|██████████| 640/640 [00:00<00:00, 951.25it/s]\n",
      "100%|██████████| 1280/1280 [00:01<00:00, 990.37it/s]\n",
      "27it [00:00, 267.54it/s]"
     ]
    },
    {
     "name": "stdout",
     "output_type": "stream",
     "text": [
      "train acc: 100.0 val acc: 91.5625\n"
     ]
    },
    {
     "name": "stderr",
     "output_type": "stream",
     "text": [
      "640it [00:02, 256.98it/s]\n",
      " 13%|█▎        | 84/640 [00:00<00:00, 830.02it/s]"
     ]
    },
    {
     "name": "stdout",
     "output_type": "stream",
     "text": [
      "epoch: 51 , loss: 0.0020433477911037112\n"
     ]
    },
    {
     "name": "stderr",
     "output_type": "stream",
     "text": [
      "100%|██████████| 640/640 [00:00<00:00, 895.41it/s]\n",
      "100%|██████████| 1280/1280 [00:01<00:00, 1012.19it/s]\n",
      "24it [00:00, 238.54it/s]"
     ]
    },
    {
     "name": "stdout",
     "output_type": "stream",
     "text": [
      "train acc: 100.0 val acc: 91.40625\n"
     ]
    },
    {
     "name": "stderr",
     "output_type": "stream",
     "text": [
      "640it [00:02, 253.86it/s]\n",
      " 15%|█▌        | 98/640 [00:00<00:00, 978.43it/s]"
     ]
    },
    {
     "name": "stdout",
     "output_type": "stream",
     "text": [
      "epoch: 52 , loss: 0.0017854005060793376\n"
     ]
    },
    {
     "name": "stderr",
     "output_type": "stream",
     "text": [
      "100%|██████████| 640/640 [00:00<00:00, 900.93it/s]\n",
      "100%|██████████| 1280/1280 [00:01<00:00, 1017.27it/s]\n",
      "29it [00:00, 287.45it/s]"
     ]
    },
    {
     "name": "stdout",
     "output_type": "stream",
     "text": [
      "train acc: 100.0 val acc: 91.40625\n"
     ]
    },
    {
     "name": "stderr",
     "output_type": "stream",
     "text": [
      "640it [00:02, 259.65it/s]\n",
      " 14%|█▎        | 87/640 [00:00<00:00, 866.02it/s]"
     ]
    },
    {
     "name": "stdout",
     "output_type": "stream",
     "text": [
      "epoch: 53 , loss: 0.0016808301350124122\n"
     ]
    },
    {
     "name": "stderr",
     "output_type": "stream",
     "text": [
      "100%|██████████| 640/640 [00:00<00:00, 936.50it/s]\n",
      "100%|██████████| 1280/1280 [00:01<00:00, 997.38it/s]\n",
      "30it [00:00, 293.13it/s]"
     ]
    },
    {
     "name": "stdout",
     "output_type": "stream",
     "text": [
      "train acc: 100.0 val acc: 91.484375\n"
     ]
    },
    {
     "name": "stderr",
     "output_type": "stream",
     "text": [
      "640it [00:02, 254.92it/s]\n",
      " 14%|█▍        | 92/640 [00:00<00:00, 919.56it/s]"
     ]
    },
    {
     "name": "stdout",
     "output_type": "stream",
     "text": [
      "epoch: 54 , loss: 0.0015904061508014156\n"
     ]
    },
    {
     "name": "stderr",
     "output_type": "stream",
     "text": [
      "100%|██████████| 640/640 [00:00<00:00, 867.39it/s]\n",
      "100%|██████████| 1280/1280 [00:01<00:00, 989.40it/s]\n",
      "28it [00:00, 273.74it/s]"
     ]
    },
    {
     "name": "stdout",
     "output_type": "stream",
     "text": [
      "train acc: 100.0 val acc: 91.484375\n"
     ]
    },
    {
     "name": "stderr",
     "output_type": "stream",
     "text": [
      "640it [00:02, 259.88it/s]\n",
      " 15%|█▍        | 93/640 [00:00<00:00, 926.09it/s]"
     ]
    },
    {
     "name": "stdout",
     "output_type": "stream",
     "text": [
      "epoch: 55 , loss: 0.0015151679478926372\n"
     ]
    },
    {
     "name": "stderr",
     "output_type": "stream",
     "text": [
      "100%|██████████| 640/640 [00:00<00:00, 960.03it/s]\n",
      "100%|██████████| 1280/1280 [00:01<00:00, 1036.63it/s]\n",
      "26it [00:00, 258.73it/s]"
     ]
    },
    {
     "name": "stdout",
     "output_type": "stream",
     "text": [
      "train acc: 100.0 val acc: 91.484375\n"
     ]
    },
    {
     "name": "stderr",
     "output_type": "stream",
     "text": [
      "640it [00:02, 259.53it/s]\n",
      " 14%|█▍        | 90/640 [00:00<00:00, 899.26it/s]"
     ]
    },
    {
     "name": "stdout",
     "output_type": "stream",
     "text": [
      "epoch: 56 , loss: 0.0014476649504404637\n"
     ]
    },
    {
     "name": "stderr",
     "output_type": "stream",
     "text": [
      "100%|██████████| 640/640 [00:00<00:00, 864.00it/s]\n",
      "100%|██████████| 1280/1280 [00:01<00:00, 992.98it/s] \n",
      "27it [00:00, 264.24it/s]"
     ]
    },
    {
     "name": "stdout",
     "output_type": "stream",
     "text": [
      "train acc: 100.0 val acc: 91.484375\n"
     ]
    },
    {
     "name": "stderr",
     "output_type": "stream",
     "text": [
      "640it [00:02, 259.28it/s]\n",
      " 15%|█▍        | 93/640 [00:00<00:00, 921.58it/s]"
     ]
    },
    {
     "name": "stdout",
     "output_type": "stream",
     "text": [
      "epoch: 57 , loss: 0.0013849787469915054\n"
     ]
    },
    {
     "name": "stderr",
     "output_type": "stream",
     "text": [
      "100%|██████████| 640/640 [00:00<00:00, 915.90it/s]\n",
      "100%|██████████| 1280/1280 [00:01<00:00, 994.57it/s]\n",
      "26it [00:00, 247.05it/s]"
     ]
    },
    {
     "name": "stdout",
     "output_type": "stream",
     "text": [
      "train acc: 100.0 val acc: 91.484375\n"
     ]
    },
    {
     "name": "stderr",
     "output_type": "stream",
     "text": [
      "640it [00:02, 259.77it/s]\n",
      " 15%|█▍        | 95/640 [00:00<00:00, 949.18it/s]"
     ]
    },
    {
     "name": "stdout",
     "output_type": "stream",
     "text": [
      "epoch: 58 , loss: 0.001332646608397603\n"
     ]
    },
    {
     "name": "stderr",
     "output_type": "stream",
     "text": [
      "100%|██████████| 640/640 [00:00<00:00, 927.71it/s]\n",
      "100%|██████████| 1280/1280 [00:01<00:00, 983.07it/s] \n",
      "27it [00:00, 262.71it/s]"
     ]
    },
    {
     "name": "stdout",
     "output_type": "stream",
     "text": [
      "train acc: 100.0 val acc: 91.484375\n"
     ]
    },
    {
     "name": "stderr",
     "output_type": "stream",
     "text": [
      "640it [00:02, 259.31it/s]\n",
      " 16%|█▌        | 101/640 [00:00<00:00, 1009.27it/s]"
     ]
    },
    {
     "name": "stdout",
     "output_type": "stream",
     "text": [
      "epoch: 59 , loss: 0.0012790210537154678\n"
     ]
    },
    {
     "name": "stderr",
     "output_type": "stream",
     "text": [
      "100%|██████████| 640/640 [00:00<00:00, 998.62it/s] \n",
      "100%|██████████| 1280/1280 [00:01<00:00, 1029.05it/s]\n",
      "25it [00:00, 249.96it/s]"
     ]
    },
    {
     "name": "stdout",
     "output_type": "stream",
     "text": [
      "train acc: 100.0 val acc: 91.484375\n"
     ]
    },
    {
     "name": "stderr",
     "output_type": "stream",
     "text": [
      "640it [00:02, 263.21it/s]\n",
      " 16%|█▌        | 100/640 [00:00<00:00, 999.41it/s]"
     ]
    },
    {
     "name": "stdout",
     "output_type": "stream",
     "text": [
      "epoch: 60 , loss: 0.0012325003717945648\n"
     ]
    },
    {
     "name": "stderr",
     "output_type": "stream",
     "text": [
      "100%|██████████| 640/640 [00:00<00:00, 932.94it/s]\n",
      "100%|██████████| 1280/1280 [00:01<00:00, 985.68it/s]\n",
      "26it [00:00, 259.28it/s]"
     ]
    },
    {
     "name": "stdout",
     "output_type": "stream",
     "text": [
      "train acc: 100.0 val acc: 91.484375\n"
     ]
    },
    {
     "name": "stderr",
     "output_type": "stream",
     "text": [
      "640it [00:02, 257.75it/s]\n",
      " 13%|█▎        | 81/640 [00:00<00:00, 804.98it/s]"
     ]
    },
    {
     "name": "stdout",
     "output_type": "stream",
     "text": [
      "epoch: 61 , loss: 0.0011841930425573466\n"
     ]
    },
    {
     "name": "stderr",
     "output_type": "stream",
     "text": [
      "100%|██████████| 640/640 [00:00<00:00, 879.83it/s]\n",
      "100%|██████████| 1280/1280 [00:01<00:00, 986.28it/s] \n",
      "29it [00:00, 287.41it/s]"
     ]
    },
    {
     "name": "stdout",
     "output_type": "stream",
     "text": [
      "train acc: 100.0 val acc: 91.484375\n"
     ]
    },
    {
     "name": "stderr",
     "output_type": "stream",
     "text": [
      "640it [00:02, 254.52it/s]\n",
      " 16%|█▋        | 104/640 [00:00<00:00, 1031.27it/s]"
     ]
    },
    {
     "name": "stdout",
     "output_type": "stream",
     "text": [
      "epoch: 62 , loss: 0.0011453516811421594\n"
     ]
    },
    {
     "name": "stderr",
     "output_type": "stream",
     "text": [
      "100%|██████████| 640/640 [00:00<00:00, 920.24it/s] \n",
      "100%|██████████| 1280/1280 [00:01<00:00, 1016.28it/s]\n",
      "28it [00:00, 278.20it/s]"
     ]
    },
    {
     "name": "stdout",
     "output_type": "stream",
     "text": [
      "train acc: 100.0 val acc: 91.40625\n"
     ]
    },
    {
     "name": "stderr",
     "output_type": "stream",
     "text": [
      "640it [00:02, 260.54it/s]\n",
      " 15%|█▍        | 93/640 [00:00<00:00, 921.17it/s]"
     ]
    },
    {
     "name": "stdout",
     "output_type": "stream",
     "text": [
      "epoch: 63 , loss: 0.0011070445188643419\n"
     ]
    },
    {
     "name": "stderr",
     "output_type": "stream",
     "text": [
      "100%|██████████| 640/640 [00:00<00:00, 901.21it/s]\n",
      "100%|██████████| 1280/1280 [00:01<00:00, 971.81it/s]\n",
      "28it [00:00, 276.38it/s]"
     ]
    },
    {
     "name": "stdout",
     "output_type": "stream",
     "text": [
      "train acc: 100.0 val acc: 91.484375\n"
     ]
    },
    {
     "name": "stderr",
     "output_type": "stream",
     "text": [
      "640it [00:02, 263.11it/s]\n",
      " 15%|█▌        | 97/640 [00:00<00:00, 967.71it/s]"
     ]
    },
    {
     "name": "stdout",
     "output_type": "stream",
     "text": [
      "epoch: 64 , loss: 0.0010714873699160243\n"
     ]
    },
    {
     "name": "stderr",
     "output_type": "stream",
     "text": [
      "100%|██████████| 640/640 [00:00<00:00, 927.98it/s]\n",
      "100%|██████████| 1280/1280 [00:01<00:00, 1014.20it/s]\n",
      "29it [00:00, 281.10it/s]"
     ]
    },
    {
     "name": "stdout",
     "output_type": "stream",
     "text": [
      "train acc: 100.0 val acc: 91.484375\n"
     ]
    },
    {
     "name": "stderr",
     "output_type": "stream",
     "text": [
      "640it [00:02, 259.78it/s]\n",
      " 16%|█▌        | 100/640 [00:00<00:00, 996.86it/s]"
     ]
    },
    {
     "name": "stdout",
     "output_type": "stream",
     "text": [
      "epoch: 65 , loss: 0.0010367989567294789\n"
     ]
    },
    {
     "name": "stderr",
     "output_type": "stream",
     "text": [
      "100%|██████████| 640/640 [00:00<00:00, 911.31it/s]\n",
      "100%|██████████| 1280/1280 [00:01<00:00, 1042.77it/s]\n",
      "27it [00:00, 267.70it/s]"
     ]
    },
    {
     "name": "stdout",
     "output_type": "stream",
     "text": [
      "train acc: 100.0 val acc: 91.484375\n"
     ]
    },
    {
     "name": "stderr",
     "output_type": "stream",
     "text": [
      "640it [00:02, 258.55it/s]\n",
      " 17%|█▋        | 108/640 [00:00<00:00, 1070.21it/s]"
     ]
    },
    {
     "name": "stdout",
     "output_type": "stream",
     "text": [
      "epoch: 66 , loss: 0.0010037794708614989\n"
     ]
    },
    {
     "name": "stderr",
     "output_type": "stream",
     "text": [
      "100%|██████████| 640/640 [00:00<00:00, 911.25it/s] \n",
      "100%|██████████| 1280/1280 [00:01<00:00, 1001.12it/s]\n",
      "27it [00:00, 266.34it/s]"
     ]
    },
    {
     "name": "stdout",
     "output_type": "stream",
     "text": [
      "train acc: 100.0 val acc: 91.484375\n"
     ]
    },
    {
     "name": "stderr",
     "output_type": "stream",
     "text": [
      "640it [00:02, 257.69it/s]\n",
      " 14%|█▍        | 90/640 [00:00<00:00, 895.04it/s]"
     ]
    },
    {
     "name": "stdout",
     "output_type": "stream",
     "text": [
      "epoch: 67 , loss: 0.0009761281290920909\n"
     ]
    },
    {
     "name": "stderr",
     "output_type": "stream",
     "text": [
      "100%|██████████| 640/640 [00:00<00:00, 946.37it/s]\n",
      "100%|██████████| 1280/1280 [00:01<00:00, 995.42it/s]\n",
      "28it [00:00, 278.92it/s]"
     ]
    },
    {
     "name": "stdout",
     "output_type": "stream",
     "text": [
      "train acc: 100.0 val acc: 91.484375\n"
     ]
    },
    {
     "name": "stderr",
     "output_type": "stream",
     "text": [
      "640it [00:02, 260.94it/s]\n",
      " 14%|█▍        | 89/640 [00:00<00:00, 883.78it/s]"
     ]
    },
    {
     "name": "stdout",
     "output_type": "stream",
     "text": [
      "epoch: 68 , loss: 0.0009479276774306822\n"
     ]
    },
    {
     "name": "stderr",
     "output_type": "stream",
     "text": [
      "100%|██████████| 640/640 [00:00<00:00, 939.89it/s]\n",
      "100%|██████████| 1280/1280 [00:01<00:00, 1007.88it/s]\n",
      "28it [00:00, 278.07it/s]"
     ]
    },
    {
     "name": "stdout",
     "output_type": "stream",
     "text": [
      "train acc: 100.0 val acc: 91.40625\n"
     ]
    },
    {
     "name": "stderr",
     "output_type": "stream",
     "text": [
      "640it [00:02, 253.46it/s]\n",
      " 14%|█▍        | 91/640 [00:00<00:00, 907.43it/s]"
     ]
    },
    {
     "name": "stdout",
     "output_type": "stream",
     "text": [
      "epoch: 69 , loss: 0.0009222201993905887\n"
     ]
    },
    {
     "name": "stderr",
     "output_type": "stream",
     "text": [
      "100%|██████████| 640/640 [00:00<00:00, 922.15it/s]\n",
      "100%|██████████| 1280/1280 [00:01<00:00, 982.64it/s]\n",
      "27it [00:00, 257.90it/s]"
     ]
    },
    {
     "name": "stdout",
     "output_type": "stream",
     "text": [
      "train acc: 100.0 val acc: 91.40625\n"
     ]
    },
    {
     "name": "stderr",
     "output_type": "stream",
     "text": [
      "640it [00:02, 257.91it/s]\n",
      " 17%|█▋        | 106/640 [00:00<00:00, 1054.05it/s]"
     ]
    },
    {
     "name": "stdout",
     "output_type": "stream",
     "text": [
      "epoch: 70 , loss: 0.0008956834630522437\n"
     ]
    },
    {
     "name": "stderr",
     "output_type": "stream",
     "text": [
      "100%|██████████| 640/640 [00:00<00:00, 966.07it/s] \n",
      "100%|██████████| 1280/1280 [00:01<00:00, 1015.98it/s]\n",
      "26it [00:00, 257.84it/s]"
     ]
    },
    {
     "name": "stdout",
     "output_type": "stream",
     "text": [
      "train acc: 100.0 val acc: 91.40625\n"
     ]
    },
    {
     "name": "stderr",
     "output_type": "stream",
     "text": [
      "640it [00:02, 261.51it/s]\n",
      " 15%|█▌        | 99/640 [00:00<00:00, 986.30it/s]"
     ]
    },
    {
     "name": "stdout",
     "output_type": "stream",
     "text": [
      "epoch: 71 , loss: 0.0008715346421652725\n"
     ]
    },
    {
     "name": "stderr",
     "output_type": "stream",
     "text": [
      "100%|██████████| 640/640 [00:00<00:00, 960.23it/s]\n",
      "100%|██████████| 1280/1280 [00:01<00:00, 1019.46it/s]\n",
      "26it [00:00, 257.48it/s]"
     ]
    },
    {
     "name": "stdout",
     "output_type": "stream",
     "text": [
      "train acc: 100.0 val acc: 91.40625\n"
     ]
    },
    {
     "name": "stderr",
     "output_type": "stream",
     "text": [
      "640it [00:02, 259.55it/s]\n",
      " 15%|█▌        | 99/640 [00:00<00:00, 987.85it/s]"
     ]
    },
    {
     "name": "stdout",
     "output_type": "stream",
     "text": [
      "epoch: 72 , loss: 0.0008500732477583206\n"
     ]
    },
    {
     "name": "stderr",
     "output_type": "stream",
     "text": [
      "100%|██████████| 640/640 [00:00<00:00, 980.43it/s] \n",
      "100%|██████████| 1280/1280 [00:01<00:00, 998.87it/s]\n",
      "27it [00:00, 265.87it/s]"
     ]
    },
    {
     "name": "stdout",
     "output_type": "stream",
     "text": [
      "train acc: 100.0 val acc: 91.40625\n"
     ]
    },
    {
     "name": "stderr",
     "output_type": "stream",
     "text": [
      "640it [00:02, 254.08it/s]\n",
      " 10%|█         | 65/640 [00:00<00:00, 647.16it/s]"
     ]
    },
    {
     "name": "stdout",
     "output_type": "stream",
     "text": [
      "epoch: 73 , loss: 0.0008286923194535945\n"
     ]
    },
    {
     "name": "stderr",
     "output_type": "stream",
     "text": [
      "100%|██████████| 640/640 [00:00<00:00, 814.03it/s]\n",
      "100%|██████████| 1280/1280 [00:01<00:00, 1022.66it/s]\n",
      "27it [00:00, 264.10it/s]"
     ]
    },
    {
     "name": "stdout",
     "output_type": "stream",
     "text": [
      "train acc: 100.0 val acc: 91.40625\n"
     ]
    },
    {
     "name": "stderr",
     "output_type": "stream",
     "text": [
      "640it [00:02, 259.43it/s]\n",
      " 15%|█▍        | 94/640 [00:00<00:00, 929.68it/s]"
     ]
    },
    {
     "name": "stdout",
     "output_type": "stream",
     "text": [
      "epoch: 74 , loss: 0.0008068583912579363\n"
     ]
    },
    {
     "name": "stderr",
     "output_type": "stream",
     "text": [
      "100%|██████████| 640/640 [00:00<00:00, 928.63it/s]\n",
      "100%|██████████| 1280/1280 [00:01<00:00, 1024.03it/s]\n",
      "27it [00:00, 263.60it/s]"
     ]
    },
    {
     "name": "stdout",
     "output_type": "stream",
     "text": [
      "train acc: 100.0 val acc: 91.40625\n"
     ]
    },
    {
     "name": "stderr",
     "output_type": "stream",
     "text": [
      "640it [00:02, 257.78it/s]\n",
      " 15%|█▍        | 94/640 [00:00<00:00, 938.33it/s]"
     ]
    },
    {
     "name": "stdout",
     "output_type": "stream",
     "text": [
      "epoch: 75 , loss: 0.0007869288312234435\n"
     ]
    },
    {
     "name": "stderr",
     "output_type": "stream",
     "text": [
      "100%|██████████| 640/640 [00:00<00:00, 968.99it/s]\n",
      "100%|██████████| 1280/1280 [00:01<00:00, 1018.65it/s]\n",
      "29it [00:00, 283.29it/s]"
     ]
    },
    {
     "name": "stdout",
     "output_type": "stream",
     "text": [
      "train acc: 100.0 val acc: 91.40625\n"
     ]
    },
    {
     "name": "stderr",
     "output_type": "stream",
     "text": [
      "640it [00:02, 261.08it/s]\n",
      " 14%|█▍        | 90/640 [00:00<00:00, 899.52it/s]"
     ]
    },
    {
     "name": "stdout",
     "output_type": "stream",
     "text": [
      "epoch: 76 , loss: 0.0007678315050985152\n"
     ]
    },
    {
     "name": "stderr",
     "output_type": "stream",
     "text": [
      "100%|██████████| 640/640 [00:00<00:00, 899.34it/s]\n",
      "100%|██████████| 1280/1280 [00:01<00:00, 996.82it/s] \n",
      "24it [00:00, 237.24it/s]"
     ]
    },
    {
     "name": "stdout",
     "output_type": "stream",
     "text": [
      "train acc: 100.0 val acc: 91.40625\n"
     ]
    },
    {
     "name": "stderr",
     "output_type": "stream",
     "text": [
      "640it [00:02, 260.26it/s]\n",
      " 14%|█▍        | 91/640 [00:00<00:00, 903.45it/s]"
     ]
    },
    {
     "name": "stdout",
     "output_type": "stream",
     "text": [
      "epoch: 77 , loss: 0.0007505819128330593\n"
     ]
    },
    {
     "name": "stderr",
     "output_type": "stream",
     "text": [
      "100%|██████████| 640/640 [00:00<00:00, 929.84it/s]\n",
      "100%|██████████| 1280/1280 [00:01<00:00, 1027.30it/s]\n",
      "26it [00:00, 254.31it/s]"
     ]
    },
    {
     "name": "stdout",
     "output_type": "stream",
     "text": [
      "train acc: 100.0 val acc: 91.40625\n"
     ]
    },
    {
     "name": "stderr",
     "output_type": "stream",
     "text": [
      "640it [00:02, 256.79it/s]\n",
      " 14%|█▍        | 90/640 [00:00<00:00, 887.82it/s]"
     ]
    },
    {
     "name": "stdout",
     "output_type": "stream",
     "text": [
      "epoch: 78 , loss: 0.0007336035329219559\n"
     ]
    },
    {
     "name": "stderr",
     "output_type": "stream",
     "text": [
      "100%|██████████| 640/640 [00:00<00:00, 957.11it/s]\n",
      "100%|██████████| 1280/1280 [00:01<00:00, 1045.08it/s]\n",
      "26it [00:00, 256.83it/s]"
     ]
    },
    {
     "name": "stdout",
     "output_type": "stream",
     "text": [
      "train acc: 100.0 val acc: 91.40625\n"
     ]
    },
    {
     "name": "stderr",
     "output_type": "stream",
     "text": [
      "640it [00:02, 250.58it/s]\n",
      "  8%|▊         | 53/640 [00:00<00:01, 527.83it/s]"
     ]
    },
    {
     "name": "stdout",
     "output_type": "stream",
     "text": [
      "epoch: 79 , loss: 0.0007170498364390543\n"
     ]
    },
    {
     "name": "stderr",
     "output_type": "stream",
     "text": [
      "100%|██████████| 640/640 [00:01<00:00, 516.30it/s]\n",
      "100%|██████████| 1280/1280 [00:02<00:00, 568.76it/s]\n",
      "16it [00:00, 145.97it/s]"
     ]
    },
    {
     "name": "stdout",
     "output_type": "stream",
     "text": [
      "train acc: 100.0 val acc: 91.40625\n"
     ]
    },
    {
     "name": "stderr",
     "output_type": "stream",
     "text": [
      "640it [00:03, 163.29it/s]\n",
      " 10%|█         | 64/640 [00:00<00:00, 639.50it/s]"
     ]
    },
    {
     "name": "stdout",
     "output_type": "stream",
     "text": [
      "epoch: 80 , loss: 0.0007013820081613886\n"
     ]
    },
    {
     "name": "stderr",
     "output_type": "stream",
     "text": [
      "100%|██████████| 640/640 [00:01<00:00, 625.01it/s]\n",
      "100%|██████████| 1280/1280 [00:02<00:00, 630.63it/s]\n",
      "15it [00:00, 146.36it/s]"
     ]
    },
    {
     "name": "stdout",
     "output_type": "stream",
     "text": [
      "train acc: 100.0 val acc: 91.40625\n"
     ]
    },
    {
     "name": "stderr",
     "output_type": "stream",
     "text": [
      "640it [00:04, 155.65it/s]\n",
      "  8%|▊         | 53/640 [00:00<00:01, 523.70it/s]"
     ]
    },
    {
     "name": "stdout",
     "output_type": "stream",
     "text": [
      "epoch: 81 , loss: 0.0006867915408323988\n"
     ]
    },
    {
     "name": "stderr",
     "output_type": "stream",
     "text": [
      "100%|██████████| 640/640 [00:01<00:00, 482.94it/s]\n",
      "100%|██████████| 1280/1280 [00:01<00:00, 648.41it/s]\n",
      "20it [00:00, 197.42it/s]"
     ]
    },
    {
     "name": "stdout",
     "output_type": "stream",
     "text": [
      "train acc: 100.0 val acc: 91.40625\n"
     ]
    },
    {
     "name": "stderr",
     "output_type": "stream",
     "text": [
      "640it [00:03, 181.99it/s]\n",
      "  8%|▊         | 53/640 [00:00<00:01, 527.97it/s]"
     ]
    },
    {
     "name": "stdout",
     "output_type": "stream",
     "text": [
      "epoch: 82 , loss: 0.0006718851619174071\n"
     ]
    },
    {
     "name": "stderr",
     "output_type": "stream",
     "text": [
      "100%|██████████| 640/640 [00:01<00:00, 511.68it/s]\n",
      "100%|██████████| 1280/1280 [00:02<00:00, 580.50it/s]\n",
      "16it [00:00, 151.12it/s]"
     ]
    },
    {
     "name": "stdout",
     "output_type": "stream",
     "text": [
      "train acc: 100.0 val acc: 91.40625\n"
     ]
    },
    {
     "name": "stderr",
     "output_type": "stream",
     "text": [
      "640it [00:03, 175.83it/s]\n",
      " 10%|█         | 65/640 [00:00<00:00, 643.21it/s]"
     ]
    },
    {
     "name": "stdout",
     "output_type": "stream",
     "text": [
      "epoch: 83 , loss: 0.0006581850388542865\n"
     ]
    },
    {
     "name": "stderr",
     "output_type": "stream",
     "text": [
      "100%|██████████| 640/640 [00:01<00:00, 626.89it/s]\n",
      "100%|██████████| 1280/1280 [00:01<00:00, 641.64it/s]\n",
      "18it [00:00, 171.32it/s]"
     ]
    },
    {
     "name": "stdout",
     "output_type": "stream",
     "text": [
      "train acc: 100.0 val acc: 91.25\n"
     ]
    },
    {
     "name": "stderr",
     "output_type": "stream",
     "text": [
      "640it [00:03, 165.77it/s]\n",
      "  9%|▉         | 56/640 [00:00<00:01, 559.04it/s]"
     ]
    },
    {
     "name": "stdout",
     "output_type": "stream",
     "text": [
      "epoch: 84 , loss: 0.000644244998943222\n"
     ]
    },
    {
     "name": "stderr",
     "output_type": "stream",
     "text": [
      "100%|██████████| 640/640 [00:01<00:00, 547.66it/s]\n",
      "100%|██████████| 1280/1280 [00:02<00:00, 600.04it/s]\n",
      "18it [00:00, 170.48it/s]"
     ]
    },
    {
     "name": "stdout",
     "output_type": "stream",
     "text": [
      "train acc: 100.0 val acc: 91.328125\n"
     ]
    },
    {
     "name": "stderr",
     "output_type": "stream",
     "text": [
      "640it [00:03, 161.76it/s]\n",
      "  8%|▊         | 52/640 [00:00<00:01, 519.02it/s]"
     ]
    },
    {
     "name": "stdout",
     "output_type": "stream",
     "text": [
      "epoch: 85 , loss: 0.0006314560774363098\n"
     ]
    },
    {
     "name": "stderr",
     "output_type": "stream",
     "text": [
      "100%|██████████| 640/640 [00:01<00:00, 517.69it/s]\n",
      "100%|██████████| 1280/1280 [00:02<00:00, 600.79it/s]\n",
      "17it [00:00, 162.66it/s]"
     ]
    },
    {
     "name": "stdout",
     "output_type": "stream",
     "text": [
      "train acc: 100.0 val acc: 91.40625\n"
     ]
    },
    {
     "name": "stderr",
     "output_type": "stream",
     "text": [
      "640it [00:04, 153.48it/s]\n",
      "  8%|▊         | 52/640 [00:00<00:01, 519.10it/s]"
     ]
    },
    {
     "name": "stdout",
     "output_type": "stream",
     "text": [
      "epoch: 86 , loss: 0.0006189435740127092\n"
     ]
    },
    {
     "name": "stderr",
     "output_type": "stream",
     "text": [
      "100%|██████████| 640/640 [00:01<00:00, 511.88it/s]\n",
      "100%|██████████| 1280/1280 [00:02<00:00, 586.10it/s]\n",
      "17it [00:00, 165.69it/s]"
     ]
    },
    {
     "name": "stdout",
     "output_type": "stream",
     "text": [
      "train acc: 100.0 val acc: 91.40625\n"
     ]
    },
    {
     "name": "stderr",
     "output_type": "stream",
     "text": [
      "640it [00:04, 154.44it/s]\n",
      "  8%|▊         | 54/640 [00:00<00:01, 536.36it/s]"
     ]
    },
    {
     "name": "stdout",
     "output_type": "stream",
     "text": [
      "epoch: 87 , loss: 0.0006068475546769925\n"
     ]
    },
    {
     "name": "stderr",
     "output_type": "stream",
     "text": [
      "100%|██████████| 640/640 [00:01<00:00, 506.17it/s]\n",
      "100%|██████████| 1280/1280 [00:02<00:00, 586.15it/s]\n",
      "17it [00:00, 162.20it/s]"
     ]
    },
    {
     "name": "stdout",
     "output_type": "stream",
     "text": [
      "train acc: 100.0 val acc: 91.328125\n"
     ]
    },
    {
     "name": "stderr",
     "output_type": "stream",
     "text": [
      "640it [00:04, 152.12it/s]\n",
      "  8%|▊         | 51/640 [00:00<00:01, 505.67it/s]"
     ]
    },
    {
     "name": "stdout",
     "output_type": "stream",
     "text": [
      "epoch: 88 , loss: 0.0005952596676460642\n"
     ]
    },
    {
     "name": "stderr",
     "output_type": "stream",
     "text": [
      "100%|██████████| 640/640 [00:01<00:00, 506.78it/s]\n",
      "100%|██████████| 1280/1280 [00:02<00:00, 579.99it/s]\n",
      "15it [00:00, 147.19it/s]"
     ]
    },
    {
     "name": "stdout",
     "output_type": "stream",
     "text": [
      "train acc: 100.0 val acc: 91.25\n"
     ]
    },
    {
     "name": "stderr",
     "output_type": "stream",
     "text": [
      "640it [00:04, 156.03it/s]\n",
      "  9%|▊         | 55/640 [00:00<00:01, 546.98it/s]"
     ]
    },
    {
     "name": "stdout",
     "output_type": "stream",
     "text": [
      "epoch: 89 , loss: 0.000583991410864737\n"
     ]
    },
    {
     "name": "stderr",
     "output_type": "stream",
     "text": [
      "100%|██████████| 640/640 [00:01<00:00, 532.72it/s]\n",
      "100%|██████████| 1280/1280 [00:02<00:00, 581.11it/s]\n",
      "17it [00:00, 161.29it/s]"
     ]
    },
    {
     "name": "stdout",
     "output_type": "stream",
     "text": [
      "train acc: 100.0 val acc: 91.328125\n"
     ]
    },
    {
     "name": "stderr",
     "output_type": "stream",
     "text": [
      "640it [00:04, 152.60it/s]\n",
      "  9%|▉         | 59/640 [00:00<00:00, 581.37it/s]"
     ]
    },
    {
     "name": "stdout",
     "output_type": "stream",
     "text": [
      "epoch: 90 , loss: 0.0005728021262763061\n"
     ]
    },
    {
     "name": "stderr",
     "output_type": "stream",
     "text": [
      "100%|██████████| 640/640 [00:01<00:00, 529.35it/s]\n",
      "100%|██████████| 1280/1280 [00:02<00:00, 586.35it/s]\n",
      "17it [00:00, 165.35it/s]"
     ]
    },
    {
     "name": "stdout",
     "output_type": "stream",
     "text": [
      "train acc: 100.0 val acc: 91.328125\n"
     ]
    },
    {
     "name": "stderr",
     "output_type": "stream",
     "text": [
      "640it [00:04, 151.28it/s]\n",
      "  8%|▊         | 50/640 [00:00<00:01, 494.88it/s]"
     ]
    },
    {
     "name": "stdout",
     "output_type": "stream",
     "text": [
      "epoch: 91 , loss: 0.0005626834940883896\n"
     ]
    },
    {
     "name": "stderr",
     "output_type": "stream",
     "text": [
      "100%|██████████| 640/640 [00:01<00:00, 470.70it/s]\n",
      "100%|██████████| 1280/1280 [00:02<00:00, 564.66it/s]\n",
      "19it [00:00, 189.15it/s]"
     ]
    },
    {
     "name": "stdout",
     "output_type": "stream",
     "text": [
      "train acc: 100.0 val acc: 91.328125\n"
     ]
    },
    {
     "name": "stderr",
     "output_type": "stream",
     "text": [
      "640it [00:03, 184.70it/s]\n",
      " 10%|▉         | 63/640 [00:00<00:00, 624.68it/s]"
     ]
    },
    {
     "name": "stdout",
     "output_type": "stream",
     "text": [
      "epoch: 92 , loss: 0.0005524493761475124\n"
     ]
    },
    {
     "name": "stderr",
     "output_type": "stream",
     "text": [
      "100%|██████████| 640/640 [00:01<00:00, 502.88it/s]\n",
      "100%|██████████| 1280/1280 [00:02<00:00, 556.71it/s]\n",
      "15it [00:00, 147.83it/s]"
     ]
    },
    {
     "name": "stdout",
     "output_type": "stream",
     "text": [
      "train acc: 100.0 val acc: 91.25\n"
     ]
    },
    {
     "name": "stderr",
     "output_type": "stream",
     "text": [
      "640it [00:04, 157.98it/s]\n",
      " 10%|█         | 64/640 [00:00<00:00, 630.68it/s]"
     ]
    },
    {
     "name": "stdout",
     "output_type": "stream",
     "text": [
      "epoch: 93 , loss: 0.0005424305809621499\n"
     ]
    },
    {
     "name": "stderr",
     "output_type": "stream",
     "text": [
      "100%|██████████| 640/640 [00:01<00:00, 606.82it/s]\n",
      "100%|██████████| 1280/1280 [00:02<00:00, 606.22it/s]\n",
      "15it [00:00, 149.81it/s]"
     ]
    },
    {
     "name": "stdout",
     "output_type": "stream",
     "text": [
      "train acc: 100.0 val acc: 91.328125\n"
     ]
    },
    {
     "name": "stderr",
     "output_type": "stream",
     "text": [
      "640it [00:04, 145.11it/s]\n",
      "  8%|▊         | 53/640 [00:00<00:01, 521.25it/s]"
     ]
    },
    {
     "name": "stdout",
     "output_type": "stream",
     "text": [
      "epoch: 94 , loss: 0.0005325876183546185\n"
     ]
    },
    {
     "name": "stderr",
     "output_type": "stream",
     "text": [
      "100%|██████████| 640/640 [00:01<00:00, 495.18it/s]\n",
      "100%|██████████| 1280/1280 [00:02<00:00, 636.51it/s]\n",
      "21it [00:00, 206.50it/s]"
     ]
    },
    {
     "name": "stdout",
     "output_type": "stream",
     "text": [
      "train acc: 100.0 val acc: 91.25\n"
     ]
    },
    {
     "name": "stderr",
     "output_type": "stream",
     "text": [
      "640it [00:03, 167.89it/s]\n",
      "  9%|▊         | 55/640 [00:00<00:01, 544.46it/s]"
     ]
    },
    {
     "name": "stdout",
     "output_type": "stream",
     "text": [
      "epoch: 95 , loss: 0.0005237311142782808\n"
     ]
    },
    {
     "name": "stderr",
     "output_type": "stream",
     "text": [
      "100%|██████████| 640/640 [00:01<00:00, 519.43it/s]\n",
      "100%|██████████| 1280/1280 [00:02<00:00, 584.36it/s]\n",
      "16it [00:00, 159.12it/s]"
     ]
    },
    {
     "name": "stdout",
     "output_type": "stream",
     "text": [
      "train acc: 100.0 val acc: 91.328125\n"
     ]
    },
    {
     "name": "stderr",
     "output_type": "stream",
     "text": [
      "640it [00:04, 153.32it/s]\n",
      "  8%|▊         | 53/640 [00:00<00:01, 525.10it/s]"
     ]
    },
    {
     "name": "stdout",
     "output_type": "stream",
     "text": [
      "epoch: 96 , loss: 0.0005148373551324692\n"
     ]
    },
    {
     "name": "stderr",
     "output_type": "stream",
     "text": [
      "100%|██████████| 640/640 [00:01<00:00, 510.56it/s]\n",
      "100%|██████████| 1280/1280 [00:02<00:00, 594.76it/s]\n",
      "16it [00:00, 154.72it/s]"
     ]
    },
    {
     "name": "stdout",
     "output_type": "stream",
     "text": [
      "train acc: 100.0 val acc: 91.328125\n"
     ]
    },
    {
     "name": "stderr",
     "output_type": "stream",
     "text": [
      "640it [00:04, 154.68it/s]\n",
      "  8%|▊         | 54/640 [00:00<00:01, 539.53it/s]"
     ]
    },
    {
     "name": "stdout",
     "output_type": "stream",
     "text": [
      "epoch: 97 , loss: 0.0005059279494934454\n"
     ]
    },
    {
     "name": "stderr",
     "output_type": "stream",
     "text": [
      "100%|██████████| 640/640 [00:01<00:00, 514.43it/s]\n",
      "100%|██████████| 1280/1280 [00:02<00:00, 585.61it/s]\n",
      "17it [00:00, 159.72it/s]"
     ]
    },
    {
     "name": "stdout",
     "output_type": "stream",
     "text": [
      "train acc: 100.0 val acc: 91.25\n"
     ]
    },
    {
     "name": "stderr",
     "output_type": "stream",
     "text": [
      "640it [00:04, 152.80it/s]\n",
      "  8%|▊         | 53/640 [00:00<00:01, 525.43it/s]"
     ]
    },
    {
     "name": "stdout",
     "output_type": "stream",
     "text": [
      "epoch: 98 , loss: 0.0004971832022695466\n"
     ]
    },
    {
     "name": "stderr",
     "output_type": "stream",
     "text": [
      "100%|██████████| 640/640 [00:01<00:00, 516.07it/s]\n",
      "100%|██████████| 1280/1280 [00:02<00:00, 591.71it/s]\n",
      "16it [00:00, 158.58it/s]"
     ]
    },
    {
     "name": "stdout",
     "output_type": "stream",
     "text": [
      "train acc: 100.0 val acc: 91.40625\n"
     ]
    },
    {
     "name": "stderr",
     "output_type": "stream",
     "text": [
      "640it [00:04, 159.52it/s]\n",
      "  8%|▊         | 54/640 [00:00<00:01, 530.35it/s]"
     ]
    },
    {
     "name": "stdout",
     "output_type": "stream",
     "text": [
      "epoch: 99 , loss: 0.0004894219336784023\n"
     ]
    },
    {
     "name": "stderr",
     "output_type": "stream",
     "text": [
      "100%|██████████| 640/640 [00:01<00:00, 511.92it/s]\n",
      "100%|██████████| 1280/1280 [00:02<00:00, 567.78it/s]"
     ]
    },
    {
     "name": "stdout",
     "output_type": "stream",
     "text": [
      "train acc: 100.0 val acc: 91.328125\n"
     ]
    },
    {
     "name": "stderr",
     "output_type": "stream",
     "text": [
      "\n"
     ]
    }
   ],
   "source": [
    "train_accuracy, val_accuracy = train(cr_train, to_cuda=False, epochs=100, calculate_acc=True)"
   ]
  },
  {
   "cell_type": "code",
   "execution_count": 9,
   "metadata": {},
   "outputs": [],
   "source": [
    "p = \"weights/\" + str(datetime.datetime.now()).split(\".\")[0].replace(':','_') + \".pth\"\n",
    "torch.save(net.state_dict(), p)"
   ]
  },
  {
   "cell_type": "code",
   "execution_count": 10,
   "metadata": {},
   "outputs": [],
   "source": [
    "def class_wise_accuracy(dataloader):\n",
    "    correct = {}\n",
    "    total = {}\n",
    "    with torch.no_grad():\n",
    "        for data in dataloader:\n",
    "            images, labels = data\n",
    "            outputs = net(images)\n",
    "            _, predicted = torch.max(outputs.data, 1)\n",
    "            for l in range(len(labels)):\n",
    "                label = int(labels[l].cpu().numpy())\n",
    "                pred = predicted[l]\n",
    "                if label in correct:\n",
    "                    correct[label] += int(pred == label)\n",
    "                    total[label] += 1\n",
    "                else:\n",
    "                    correct[label] = int(pred == label)\n",
    "                    total[label] = 1\n",
    "    acc = {}\n",
    "    for label in correct:\n",
    "        acc[label] = 100 * correct[label] / total[label]\n",
    "    return acc"
   ]
  },
  {
   "cell_type": "code",
   "execution_count": 11,
   "metadata": {},
   "outputs": [
    {
     "data": {
      "text/plain": [
       "{8: 88.95705521472392,\n",
       " 1: 90.50632911392405,\n",
       " 3: 94.19354838709677,\n",
       " 5: 90.79754601226993,\n",
       " 2: 92.02453987730061,\n",
       " 4: 91.9753086419753,\n",
       " 6: 90.50632911392405,\n",
       " 7: 91.77215189873418}"
      ]
     },
     "execution_count": 11,
     "metadata": {},
     "output_type": "execute_result"
    }
   ],
   "source": [
    "class_wise_accuracy(val_loader)"
   ]
  },
  {
   "cell_type": "raw",
   "metadata": {},
   "source": [
    "train_accuracy, val_accuracy"
   ]
  },
  {
   "cell_type": "code",
   "execution_count": 12,
   "metadata": {},
   "outputs": [
    {
     "data": {
      "text/plain": [
       "<matplotlib.legend.Legend at 0x7fc25a957eb8>"
      ]
     },
     "execution_count": 12,
     "metadata": {},
     "output_type": "execute_result"
    },
    {
     "data": {
      "image/png": "[encoded data removed]",
      "text/plain": [
       "<Figure size 432x288 with 1 Axes>"
      ]
     },
     "metadata": {
      "needs_background": "light"
     },
     "output_type": "display_data"
    }
   ],
   "source": [
    "fig = plt.figure()\n",
    "ax = fig.add_subplot(111)\n",
    "\n",
    "ax.plot(np.arange(len(train_accuracy)), train_accuracy, label=\"train\")\n",
    "ax.plot(np.arange(len(val_accuracy)), val_accuracy, label=\"test\")\n",
    "ax.grid()\n",
    "ax.set_xlabel('epochs')\n",
    "ax.set_ylabel('accuracy')\n",
    "ax.legend()\n",
    "# ax.set_facecolor('lightgray')\n",
    "# ax.set_xlabel('X-axis')\n",
    "# ax.set_ylabel('Y-axis')\n",
    "# ax.spines['bottom'].set_color('white')\n",
    "# ax.spines['top'].set_color('white')\n",
    "# ax.xaxis.label.set_color('white')\n",
    "# ax.tick_params(axis='x', colors='white')\n",
    "# ax.tick_params(axis='y', colors='white')"
   ]
  },
  {
   "cell_type": "code",
   "execution_count": null,
   "metadata": {},
   "outputs": [],
   "source": []
  }
 ],
 "metadata": {
  "kernelspec": {
   "display_name": "Python 3",
   "language": "python",
   "name": "python3"
  },
  "language_info": {
   "codemirror_mode": {
    "name": "ipython",
    "version": 3
   },
   "file_extension": ".py",
   "mimetype": "text/x-python",
   "name": "python",
   "nbconvert_exporter": "python",
   "pygments_lexer": "ipython3",
   "version": "3.6.5"
  }
 },
 "nbformat": 4,
 "nbformat_minor": 4
}
