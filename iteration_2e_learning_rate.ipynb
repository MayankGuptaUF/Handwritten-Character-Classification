{
 "cells": [
  {
   "cell_type": "code",
   "execution_count": 1,
   "metadata": {},
   "outputs": [],
   "source": [
    "import torch \n",
    "import torch.nn as nn\n",
    "import torch.optim as optim\n",
    "import torchvision\n",
    "from torch.utils.data import DataLoader\n",
    "from tqdm import tqdm\n",
    "import datetime\n",
    "from matplotlib import pyplot as plt\n",
    "\n",
    "%matplotlib inline\n",
    "%run ./data_loading.ipynb"
   ]
  },
  {
   "cell_type": "code",
   "execution_count": 2,
   "metadata": {},
   "outputs": [],
   "source": [
    "class Net(nn.Module):\n",
    "    def __init__(self):\n",
    "        super(Net, self).__init__()\n",
    "        self.conv1 = nn.Conv2d(in_channels=1, out_channels=6, kernel_size=3, stride=1, padding=1)\n",
    "        self.conv2 = nn.Conv2d(in_channels=6, out_channels=6, kernel_size=3, stride=1, padding=1)\n",
    "        self.conv3 = nn.Conv2d(in_channels=6, out_channels=12, kernel_size=3, stride=1, padding=1)\n",
    "        self.conv4 = nn.Conv2d(in_channels=12, out_channels=12, kernel_size=5, stride=1, padding=0)\n",
    "\n",
    "        self.relu = nn.ReLU()\n",
    "        self.pool = nn.MaxPool2d(kernel_size=2, stride=2)\n",
    "        \n",
    "        self.fc1 = nn.Linear(in_features=10*10*12, out_features=300)\n",
    "        self.fc2 = nn.Linear(in_features=300, out_features=60)\n",
    "        self.fc3 = nn.Linear(in_features=60, out_features=9)\n",
    "        \n",
    "    def forward(self, X):\n",
    "        X = self.relu(self.conv1(X))\n",
    "        X = self.pool(self.relu(self.conv2(X)))\n",
    "        X = self.relu(self.conv3(X))\n",
    "        X = self.pool(self.relu(self.conv4(X)))\n",
    "        X = X.view(-1, 10*10*12)\n",
    "        X = self.relu(self.fc1(X))\n",
    "        X = self.relu(self.fc2(X))\n",
    "        X = self.fc3(X)\n",
    "        return X"
   ]
  },
  {
   "cell_type": "code",
   "execution_count": 3,
   "metadata": {},
   "outputs": [],
   "source": [
    "def calculate_accuracy(dataloader):\n",
    "    correct = 0\n",
    "    total = 0\n",
    "    with torch.no_grad():\n",
    "        for data in dataloader:\n",
    "            images, labels = data\n",
    "            outputs = net(images)\n",
    "            _, predicted = torch.max(outputs.data, 1)\n",
    "            total += labels.size(0)\n",
    "            correct += (predicted == labels).sum().item()\n",
    "    acc = 100 * correct / total\n",
    "    return acc"
   ]
  },
  {
   "cell_type": "code",
   "execution_count": 4,
   "metadata": {},
   "outputs": [],
   "source": [
    "def train(dataset, epochs, batch_size=5, to_cuda=True, calculate_acc=False):\n",
    "    train_acc = []\n",
    "    val_acc = []\n",
    "    if to_cuda:\n",
    "        dataloader = DataLoader(dataset, batch_size=batch_size, shuffle=True, pin_memory=True)\n",
    "    else:\n",
    "        dataloader = DataLoader(dataset, batch_size=batch_size, shuffle=True)\n",
    "    for epoch in range(epochs):\n",
    "        running_loss = 0.0\n",
    "        for i, data in tqdm(enumerate(dataloader, 0)):\n",
    "            inputs, labels = data\n",
    "            if to_cuda:\n",
    "                inputs = inputs.cuda()\n",
    "                labels = labels.cuda()\n",
    "\n",
    "            # zero the parameter gradients\n",
    "            optimizer.zero_grad()\n",
    "\n",
    "            # forward + backward + optimize\n",
    "            outputs = net(inputs)\n",
    "            loss = loss_f(outputs, labels)\n",
    "            loss.backward()\n",
    "            optimizer.step()\n",
    "\n",
    "            # print statistics\n",
    "            running_loss += loss.item()\n",
    "        print('epoch:', epoch, ', loss:', running_loss * batch_size / dataloader.__len__())\n",
    "        if calculate_acc:\n",
    "            t = calculate_accuracy(dataloader)\n",
    "            v = calculate_accuracy(val_loader)\n",
    "            print(\"train acc:\", t, \"val acc:\", v)\n",
    "            train_acc.append(t)\n",
    "            val_acc.append(v)\n",
    "        if epoch % 1 == 0: # every x epochs reshuffle data by creating a new loader\n",
    "            if to_cuda:\n",
    "                dataloader = DataLoader(dataset, batch_size=batch_size, shuffle=True, pin_memory=True)\n",
    "            else:\n",
    "                dataloader = DataLoader(dataset, batch_size=batch_size, shuffle=True)\n",
    "\n",
    "    return train_acc, val_acc"
   ]
  },
  {
   "cell_type": "code",
   "execution_count": 13,
   "metadata": {
    "scrolled": true
   },
   "outputs": [
    {
     "name": "stderr",
     "output_type": "stream",
     "text": [
      "640it [00:04, 128.39it/s]\n"
     ]
    },
    {
     "name": "stdout",
     "output_type": "stream",
     "text": [
      "epoch: 0 , loss: 10.936939114704728\n",
      "train acc: 12.5625 val acc: 12.734375\n"
     ]
    },
    {
     "name": "stderr",
     "output_type": "stream",
     "text": [
      "640it [00:05, 115.13it/s]\n"
     ]
    },
    {
     "name": "stdout",
     "output_type": "stream",
     "text": [
      "epoch: 1 , loss: 10.894598258659244\n",
      "train acc: 12.5625 val acc: 12.734375\n"
     ]
    },
    {
     "name": "stderr",
     "output_type": "stream",
     "text": [
      "640it [00:05, 126.71it/s]\n"
     ]
    },
    {
     "name": "stdout",
     "output_type": "stream",
     "text": [
      "epoch: 2 , loss: 10.858221450820565\n",
      "train acc: 12.5625 val acc: 12.734375\n"
     ]
    },
    {
     "name": "stderr",
     "output_type": "stream",
     "text": [
      "640it [00:08, 80.83it/s]\n"
     ]
    },
    {
     "name": "stdout",
     "output_type": "stream",
     "text": [
      "epoch: 3 , loss: 10.826453670859337\n",
      "train acc: 12.5625 val acc: 12.734375\n"
     ]
    },
    {
     "name": "stderr",
     "output_type": "stream",
     "text": [
      "640it [00:07, 80.36it/s]\n"
     ]
    },
    {
     "name": "stdout",
     "output_type": "stream",
     "text": [
      "epoch: 4 , loss: 10.798474542796612\n",
      "train acc: 12.5625 val acc: 12.734375\n"
     ]
    },
    {
     "name": "stderr",
     "output_type": "stream",
     "text": [
      "640it [00:07, 79.00it/s]\n"
     ]
    },
    {
     "name": "stdout",
     "output_type": "stream",
     "text": [
      "epoch: 5 , loss: 10.773852780461311\n",
      "train acc: 12.5625 val acc: 12.734375\n"
     ]
    },
    {
     "name": "stderr",
     "output_type": "stream",
     "text": [
      "640it [00:07, 80.18it/s]\n"
     ]
    },
    {
     "name": "stdout",
     "output_type": "stream",
     "text": [
      "epoch: 6 , loss: 10.751863783225417\n",
      "train acc: 12.5625 val acc: 12.734375\n"
     ]
    },
    {
     "name": "stderr",
     "output_type": "stream",
     "text": [
      "640it [00:07, 80.35it/s]\n"
     ]
    },
    {
     "name": "stdout",
     "output_type": "stream",
     "text": [
      "epoch: 7 , loss: 10.731945928186178\n",
      "train acc: 12.5625 val acc: 12.734375\n"
     ]
    },
    {
     "name": "stderr",
     "output_type": "stream",
     "text": [
      "640it [00:07, 80.89it/s]\n"
     ]
    },
    {
     "name": "stdout",
     "output_type": "stream",
     "text": [
      "epoch: 8 , loss: 10.713805124163628\n",
      "train acc: 12.5625 val acc: 12.734375\n"
     ]
    },
    {
     "name": "stderr",
     "output_type": "stream",
     "text": [
      "640it [00:07, 80.23it/s]\n"
     ]
    },
    {
     "name": "stdout",
     "output_type": "stream",
     "text": [
      "epoch: 9 , loss: 10.697196802124381\n",
      "train acc: 12.5625 val acc: 12.734375\n",
      "[12.5625, 12.5625, 12.5625, 12.5625, 12.5625, 12.5625, 12.5625, 12.5625, 12.5625, 12.5625] [12.734375, 12.734375, 12.734375, 12.734375, 12.734375, 12.734375, 12.734375, 12.734375, 12.734375, 12.734375]\n"
     ]
    },
    {
     "name": "stderr",
     "output_type": "stream",
     "text": [
      "640it [00:08, 79.53it/s]\n"
     ]
    },
    {
     "name": "stdout",
     "output_type": "stream",
     "text": [
      "epoch: 0 , loss: 11.00453520566225\n",
      "train acc: 12.46875 val acc: 12.578125\n"
     ]
    },
    {
     "name": "stderr",
     "output_type": "stream",
     "text": [
      "640it [00:07, 80.69it/s]\n"
     ]
    },
    {
     "name": "stdout",
     "output_type": "stream",
     "text": [
      "epoch: 1 , loss: 10.950190629810095\n",
      "train acc: 12.46875 val acc: 12.578125\n"
     ]
    },
    {
     "name": "stderr",
     "output_type": "stream",
     "text": [
      "640it [00:07, 80.64it/s]\n"
     ]
    },
    {
     "name": "stdout",
     "output_type": "stream",
     "text": [
      "epoch: 2 , loss: 10.903671219944954\n",
      "train acc: 12.46875 val acc: 12.578125\n"
     ]
    },
    {
     "name": "stderr",
     "output_type": "stream",
     "text": [
      "640it [00:08, 79.75it/s]\n"
     ]
    },
    {
     "name": "stdout",
     "output_type": "stream",
     "text": [
      "epoch: 3 , loss: 10.863725228235126\n",
      "train acc: 12.46875 val acc: 12.578125\n"
     ]
    },
    {
     "name": "stderr",
     "output_type": "stream",
     "text": [
      "640it [00:07, 80.84it/s]\n"
     ]
    },
    {
     "name": "stdout",
     "output_type": "stream",
     "text": [
      "epoch: 4 , loss: 10.828932544216514\n",
      "train acc: 12.46875 val acc: 12.578125\n"
     ]
    },
    {
     "name": "stderr",
     "output_type": "stream",
     "text": [
      "640it [00:09, 74.97it/s]\n"
     ]
    },
    {
     "name": "stdout",
     "output_type": "stream",
     "text": [
      "epoch: 5 , loss: 10.797410022467375\n",
      "train acc: 12.46875 val acc: 12.578125\n"
     ]
    },
    {
     "name": "stderr",
     "output_type": "stream",
     "text": [
      "640it [00:09, 65.26it/s]\n"
     ]
    },
    {
     "name": "stdout",
     "output_type": "stream",
     "text": [
      "epoch: 6 , loss: 10.76790601760149\n",
      "train acc: 12.46875 val acc: 12.578125\n"
     ]
    },
    {
     "name": "stderr",
     "output_type": "stream",
     "text": [
      "640it [00:08, 76.89it/s]\n"
     ]
    },
    {
     "name": "stdout",
     "output_type": "stream",
     "text": [
      "epoch: 7 , loss: 10.739574564620852\n",
      "train acc: 12.46875 val acc: 12.578125\n"
     ]
    },
    {
     "name": "stderr",
     "output_type": "stream",
     "text": [
      "640it [00:08, 76.88it/s]\n"
     ]
    },
    {
     "name": "stdout",
     "output_type": "stream",
     "text": [
      "epoch: 8 , loss: 10.71204468421638\n",
      "train acc: 12.78125 val acc: 12.8125\n"
     ]
    },
    {
     "name": "stderr",
     "output_type": "stream",
     "text": [
      "640it [00:08, 79.32it/s]\n"
     ]
    },
    {
     "name": "stdout",
     "output_type": "stream",
     "text": [
      "epoch: 9 , loss: 10.684033803641796\n",
      "train acc: 12.59375 val acc: 12.34375\n",
      "[12.46875, 12.46875, 12.46875, 12.46875, 12.46875, 12.46875, 12.46875, 12.46875, 12.78125, 12.59375] [12.578125, 12.578125, 12.578125, 12.578125, 12.578125, 12.578125, 12.578125, 12.578125, 12.8125, 12.34375]\n"
     ]
    },
    {
     "name": "stderr",
     "output_type": "stream",
     "text": [
      "640it [00:07, 80.09it/s]\n"
     ]
    },
    {
     "name": "stdout",
     "output_type": "stream",
     "text": [
      "epoch: 0 , loss: 10.758614208549261\n",
      "train acc: 12.46875 val acc: 12.34375\n"
     ]
    },
    {
     "name": "stderr",
     "output_type": "stream",
     "text": [
      "640it [00:08, 78.20it/s]\n"
     ]
    },
    {
     "name": "stdout",
     "output_type": "stream",
     "text": [
      "epoch: 1 , loss: 10.486973159015179\n",
      "train acc: 12.5 val acc: 12.34375\n"
     ]
    },
    {
     "name": "stderr",
     "output_type": "stream",
     "text": [
      "640it [00:08, 81.12it/s]\n"
     ]
    },
    {
     "name": "stdout",
     "output_type": "stream",
     "text": [
      "epoch: 2 , loss: 10.319086730480194\n",
      "train acc: 44.4375 val acc: 43.671875\n"
     ]
    },
    {
     "name": "stderr",
     "output_type": "stream",
     "text": [
      "640it [00:08, 75.04it/s]\n"
     ]
    },
    {
     "name": "stdout",
     "output_type": "stream",
     "text": [
      "epoch: 3 , loss: 4.600680312461918\n",
      "train acc: 80.3125 val acc: 80.859375\n"
     ]
    },
    {
     "name": "stderr",
     "output_type": "stream",
     "text": [
      "640it [00:08, 79.93it/s]\n"
     ]
    },
    {
     "name": "stdout",
     "output_type": "stream",
     "text": [
      "epoch: 4 , loss: 2.9277370197069104\n",
      "train acc: 82.8125 val acc: 80.78125\n"
     ]
    },
    {
     "name": "stderr",
     "output_type": "stream",
     "text": [
      "640it [00:07, 80.55it/s]\n"
     ]
    },
    {
     "name": "stdout",
     "output_type": "stream",
     "text": [
      "epoch: 5 , loss: 2.2399730228207773\n",
      "train acc: 89.8125 val acc: 85.78125\n"
     ]
    },
    {
     "name": "stderr",
     "output_type": "stream",
     "text": [
      "640it [00:08, 79.90it/s]\n"
     ]
    },
    {
     "name": "stdout",
     "output_type": "stream",
     "text": [
      "epoch: 6 , loss: 1.6895092766742437\n",
      "train acc: 92.25 val acc: 88.359375\n"
     ]
    },
    {
     "name": "stderr",
     "output_type": "stream",
     "text": [
      "640it [00:08, 77.87it/s]\n"
     ]
    },
    {
     "name": "stdout",
     "output_type": "stream",
     "text": [
      "epoch: 7 , loss: 1.267578426307466\n",
      "train acc: 89.9375 val acc: 84.6875\n"
     ]
    },
    {
     "name": "stderr",
     "output_type": "stream",
     "text": [
      "640it [00:07, 80.30it/s]\n"
     ]
    },
    {
     "name": "stdout",
     "output_type": "stream",
     "text": [
      "epoch: 8 , loss: 0.974586836549804\n",
      "train acc: 96.125 val acc: 90.546875\n"
     ]
    },
    {
     "name": "stderr",
     "output_type": "stream",
     "text": [
      "640it [00:07, 80.22it/s]\n"
     ]
    },
    {
     "name": "stdout",
     "output_type": "stream",
     "text": [
      "epoch: 9 , loss: 0.6415195902488247\n",
      "train acc: 97.71875 val acc: 91.328125\n",
      "[12.46875, 12.5, 44.4375, 80.3125, 82.8125, 89.8125, 92.25, 89.9375, 96.125, 97.71875] [12.34375, 12.34375, 43.671875, 80.859375, 80.78125, 85.78125, 88.359375, 84.6875, 90.546875, 91.328125]\n"
     ]
    },
    {
     "name": "stderr",
     "output_type": "stream",
     "text": [
      "640it [00:08, 78.86it/s]\n"
     ]
    },
    {
     "name": "stdout",
     "output_type": "stream",
     "text": [
      "epoch: 0 , loss: 10.816313337534666\n",
      "train acc: 12.53125 val acc: 12.34375\n"
     ]
    },
    {
     "name": "stderr",
     "output_type": "stream",
     "text": [
      "640it [00:07, 80.18it/s]\n"
     ]
    },
    {
     "name": "stdout",
     "output_type": "stream",
     "text": [
      "epoch: 1 , loss: 8.798815577640198\n",
      "train acc: 75.15625 val acc: 74.609375\n"
     ]
    },
    {
     "name": "stderr",
     "output_type": "stream",
     "text": [
      "640it [00:07, 80.79it/s]\n"
     ]
    },
    {
     "name": "stdout",
     "output_type": "stream",
     "text": [
      "epoch: 2 , loss: 3.7755326678598067\n",
      "train acc: 78.84375 val acc: 77.421875\n"
     ]
    },
    {
     "name": "stderr",
     "output_type": "stream",
     "text": [
      "640it [00:08, 77.50it/s]\n"
     ]
    },
    {
     "name": "stdout",
     "output_type": "stream",
     "text": [
      "epoch: 3 , loss: 2.5759705447476335\n",
      "train acc: 86.8125 val acc: 84.21875\n"
     ]
    },
    {
     "name": "stderr",
     "output_type": "stream",
     "text": [
      "640it [00:07, 81.37it/s]\n"
     ]
    },
    {
     "name": "stdout",
     "output_type": "stream",
     "text": [
      "epoch: 4 , loss: 1.9632942435700045\n",
      "train acc: 90.5 val acc: 86.40625\n"
     ]
    },
    {
     "name": "stderr",
     "output_type": "stream",
     "text": [
      "640it [00:07, 82.03it/s]\n"
     ]
    },
    {
     "name": "stdout",
     "output_type": "stream",
     "text": [
      "epoch: 5 , loss: 1.4521825336913707\n",
      "train acc: 93.6875 val acc: 89.140625\n"
     ]
    },
    {
     "name": "stderr",
     "output_type": "stream",
     "text": [
      "640it [00:07, 81.66it/s]\n"
     ]
    },
    {
     "name": "stdout",
     "output_type": "stream",
     "text": [
      "epoch: 6 , loss: 1.0058421764520453\n",
      "train acc: 92.75 val acc: 87.96875\n"
     ]
    },
    {
     "name": "stderr",
     "output_type": "stream",
     "text": [
      "640it [00:08, 79.95it/s]\n"
     ]
    },
    {
     "name": "stdout",
     "output_type": "stream",
     "text": [
      "epoch: 7 , loss: 0.8737647979431706\n",
      "train acc: 95.375 val acc: 89.296875\n"
     ]
    },
    {
     "name": "stderr",
     "output_type": "stream",
     "text": [
      "640it [00:07, 81.77it/s]\n"
     ]
    },
    {
     "name": "stdout",
     "output_type": "stream",
     "text": [
      "epoch: 8 , loss: 0.7269376106228638\n",
      "train acc: 95.78125 val acc: 90.078125\n"
     ]
    },
    {
     "name": "stderr",
     "output_type": "stream",
     "text": [
      "640it [00:07, 81.91it/s]\n"
     ]
    },
    {
     "name": "stdout",
     "output_type": "stream",
     "text": [
      "epoch: 9 , loss: 0.5436458301740954\n",
      "train acc: 98.09375 val acc: 91.640625\n",
      "[12.53125, 75.15625, 78.84375, 86.8125, 90.5, 93.6875, 92.75, 95.375, 95.78125, 98.09375] [12.34375, 74.609375, 77.421875, 84.21875, 86.40625, 89.140625, 87.96875, 89.296875, 90.078125, 91.640625]\n"
     ]
    },
    {
     "name": "stderr",
     "output_type": "stream",
     "text": [
      "640it [00:07, 82.41it/s]\n"
     ]
    },
    {
     "name": "stdout",
     "output_type": "stream",
     "text": [
      "epoch: 0 , loss: 10.5678408164531\n",
      "train acc: 12.5 val acc: 12.34375\n"
     ]
    },
    {
     "name": "stderr",
     "output_type": "stream",
     "text": [
      "640it [00:07, 81.24it/s]\n"
     ]
    },
    {
     "name": "stdout",
     "output_type": "stream",
     "text": [
      "epoch: 1 , loss: 10.46844582632184\n",
      "train acc: 12.6875 val acc: 12.109375\n"
     ]
    },
    {
     "name": "stderr",
     "output_type": "stream",
     "text": [
      "640it [00:07, 82.15it/s]\n"
     ]
    },
    {
     "name": "stdout",
     "output_type": "stream",
     "text": [
      "epoch: 2 , loss: 10.108172392472625\n",
      "train acc: 50.6875 val acc: 47.96875\n"
     ]
    },
    {
     "name": "stderr",
     "output_type": "stream",
     "text": [
      "640it [00:07, 81.14it/s]\n"
     ]
    },
    {
     "name": "stdout",
     "output_type": "stream",
     "text": [
      "epoch: 3 , loss: 10.151427406817675\n",
      "train acc: 12.5625 val acc: 12.34375\n"
     ]
    },
    {
     "name": "stderr",
     "output_type": "stream",
     "text": [
      "640it [00:07, 81.38it/s]\n"
     ]
    },
    {
     "name": "stdout",
     "output_type": "stream",
     "text": [
      "epoch: 4 , loss: 10.457183129154146\n",
      "train acc: 12.6875 val acc: 12.109375\n"
     ]
    },
    {
     "name": "stderr",
     "output_type": "stream",
     "text": [
      "640it [00:07, 81.35it/s]\n"
     ]
    },
    {
     "name": "stdout",
     "output_type": "stream",
     "text": [
      "epoch: 5 , loss: 10.447489686310291\n",
      "train acc: 12.5625 val acc: 12.65625\n"
     ]
    },
    {
     "name": "stderr",
     "output_type": "stream",
     "text": [
      "640it [00:07, 81.27it/s]\n"
     ]
    },
    {
     "name": "stdout",
     "output_type": "stream",
     "text": [
      "epoch: 6 , loss: 10.44774116948247\n",
      "train acc: 12.5625 val acc: 12.65625\n"
     ]
    },
    {
     "name": "stderr",
     "output_type": "stream",
     "text": [
      "640it [00:07, 82.74it/s]\n"
     ]
    },
    {
     "name": "stdout",
     "output_type": "stream",
     "text": [
      "epoch: 7 , loss: 10.434365464374423\n",
      "train acc: 12.5625 val acc: 12.65625\n"
     ]
    },
    {
     "name": "stderr",
     "output_type": "stream",
     "text": [
      "640it [00:07, 82.21it/s]\n"
     ]
    },
    {
     "name": "stdout",
     "output_type": "stream",
     "text": [
      "epoch: 8 , loss: 10.42984100151807\n",
      "train acc: 12.46875 val acc: 12.34375\n"
     ]
    },
    {
     "name": "stderr",
     "output_type": "stream",
     "text": [
      "640it [00:07, 81.29it/s]\n"
     ]
    },
    {
     "name": "stdout",
     "output_type": "stream",
     "text": [
      "epoch: 9 , loss: 10.43493536580354\n",
      "train acc: 12.5625 val acc: 12.65625\n",
      "[12.5, 12.6875, 50.6875, 12.5625, 12.6875, 12.5625, 12.5625, 12.5625, 12.46875, 12.5625] [12.34375, 12.109375, 47.96875, 12.34375, 12.109375, 12.65625, 12.65625, 12.65625, 12.34375, 12.65625]\n"
     ]
    },
    {
     "name": "stderr",
     "output_type": "stream",
     "text": [
      "640it [00:07, 83.61it/s]\n"
     ]
    },
    {
     "name": "stdout",
     "output_type": "stream",
     "text": [
      "epoch: 0 , loss: 10.26892583630979\n",
      "train acc: 53.0625 val acc: 53.671875\n"
     ]
    },
    {
     "name": "stderr",
     "output_type": "stream",
     "text": [
      "640it [00:07, 81.45it/s]\n"
     ]
    },
    {
     "name": "stdout",
     "output_type": "stream",
     "text": [
      "epoch: 1 , loss: 4.684766644910269\n",
      "train acc: 82.65625 val acc: 80.9375\n"
     ]
    },
    {
     "name": "stderr",
     "output_type": "stream",
     "text": [
      "640it [00:07, 81.29it/s]\n"
     ]
    },
    {
     "name": "stdout",
     "output_type": "stream",
     "text": [
      "epoch: 2 , loss: 2.116682803737149\n",
      "train acc: 88.125 val acc: 86.25\n"
     ]
    },
    {
     "name": "stderr",
     "output_type": "stream",
     "text": [
      "640it [00:07, 81.52it/s]\n"
     ]
    },
    {
     "name": "stdout",
     "output_type": "stream",
     "text": [
      "epoch: 3 , loss: 1.2230716355885534\n",
      "train acc: 92.46875 val acc: 89.140625\n"
     ]
    },
    {
     "name": "stderr",
     "output_type": "stream",
     "text": [
      "640it [00:07, 83.99it/s]\n"
     ]
    },
    {
     "name": "stdout",
     "output_type": "stream",
     "text": [
      "epoch: 4 , loss: 0.7532425080590752\n",
      "train acc: 97.03125 val acc: 93.125\n"
     ]
    },
    {
     "name": "stderr",
     "output_type": "stream",
     "text": [
      "640it [00:07, 83.31it/s]\n"
     ]
    },
    {
     "name": "stdout",
     "output_type": "stream",
     "text": [
      "epoch: 5 , loss: 0.9901530989579633\n",
      "train acc: 94.78125 val acc: 89.296875\n"
     ]
    },
    {
     "name": "stderr",
     "output_type": "stream",
     "text": [
      "640it [00:07, 82.85it/s]\n"
     ]
    },
    {
     "name": "stdout",
     "output_type": "stream",
     "text": [
      "epoch: 6 , loss: 0.68788201634176\n",
      "train acc: 96.78125 val acc: 89.0625\n"
     ]
    },
    {
     "name": "stderr",
     "output_type": "stream",
     "text": [
      "640it [00:07, 83.50it/s]\n"
     ]
    },
    {
     "name": "stdout",
     "output_type": "stream",
     "text": [
      "epoch: 7 , loss: 2.640354682859974\n",
      "train acc: 12.65625 val acc: 12.5\n"
     ]
    },
    {
     "name": "stderr",
     "output_type": "stream",
     "text": [
      "640it [00:07, 83.56it/s]\n"
     ]
    },
    {
     "name": "stdout",
     "output_type": "stream",
     "text": [
      "epoch: 8 , loss: 10.4986373456195\n",
      "train acc: 12.53125 val acc: 12.34375\n"
     ]
    },
    {
     "name": "stderr",
     "output_type": "stream",
     "text": [
      "640it [00:07, 83.57it/s]\n"
     ]
    },
    {
     "name": "stdout",
     "output_type": "stream",
     "text": [
      "epoch: 9 , loss: 10.464691502042115\n",
      "train acc: 12.40625 val acc: 13.046875\n",
      "[53.0625, 82.65625, 88.125, 92.46875, 97.03125, 94.78125, 96.78125, 12.65625, 12.53125, 12.40625] [53.671875, 80.9375, 86.25, 89.140625, 93.125, 89.296875, 89.0625, 12.5, 12.34375, 13.046875]\n"
     ]
    }
   ],
   "source": [
    "cr_test = ClassroomDataset(range_10=[7,10])\n",
    "# Dividing data into 50% train, 40% val, 30% test\n",
    "hyper_scores = {}\n",
    "for lr in [0.001, 0.01, 0.1]:\n",
    "    scores = []\n",
    "    for i in range(2):\n",
    "        net = Net().float()\n",
    "        if torch.cuda.is_available():\n",
    "            net = net.cuda()\n",
    "        loss_f = nn.CrossEntropyLoss()\n",
    "        optimizer = optim.SGD(net.parameters(), lr=lr)\n",
    "        if i == 0:\n",
    "            cr_train = ClassroomDataset(range_10=[0,5])\n",
    "            cr_val = ClassroomDataset(range_10=[5,7])\n",
    "        else:\n",
    "            cr_train = ClassroomDataset(range_10=[2,7])\n",
    "            cr_val = ClassroomDataset(range_10=[0,2])\n",
    "        val_loader = DataLoader(cr_val, batch_size=1, shuffle=True)\n",
    "        train_accuracy, val_accuracy = train(cr_train, to_cuda=False, epochs=10, calculate_acc=True)\n",
    "        print(train_accuracy, val_accuracy)\n",
    "        scores.append((train_accuracy, val_accuracy))\n",
    "    hyper_scores[lr] = scores"
   ]
  },
  {
   "cell_type": "code",
   "execution_count": 14,
   "metadata": {},
   "outputs": [
    {
     "data": {
      "text/plain": [
       "{0.001: [([12.5625,\n",
       "    12.5625,\n",
       "    12.5625,\n",
       "    12.5625,\n",
       "    12.5625,\n",
       "    12.5625,\n",
       "    12.5625,\n",
       "    12.5625,\n",
       "    12.5625,\n",
       "    12.5625],\n",
       "   [12.734375,\n",
       "    12.734375,\n",
       "    12.734375,\n",
       "    12.734375,\n",
       "    12.734375,\n",
       "    12.734375,\n",
       "    12.734375,\n",
       "    12.734375,\n",
       "    12.734375,\n",
       "    12.734375]),\n",
       "  ([12.46875,\n",
       "    12.46875,\n",
       "    12.46875,\n",
       "    12.46875,\n",
       "    12.46875,\n",
       "    12.46875,\n",
       "    12.46875,\n",
       "    12.46875,\n",
       "    12.78125,\n",
       "    12.59375],\n",
       "   [12.578125,\n",
       "    12.578125,\n",
       "    12.578125,\n",
       "    12.578125,\n",
       "    12.578125,\n",
       "    12.578125,\n",
       "    12.578125,\n",
       "    12.578125,\n",
       "    12.8125,\n",
       "    12.34375])],\n",
       " 0.01: [([12.46875,\n",
       "    12.5,\n",
       "    44.4375,\n",
       "    80.3125,\n",
       "    82.8125,\n",
       "    89.8125,\n",
       "    92.25,\n",
       "    89.9375,\n",
       "    96.125,\n",
       "    97.71875],\n",
       "   [12.34375,\n",
       "    12.34375,\n",
       "    43.671875,\n",
       "    80.859375,\n",
       "    80.78125,\n",
       "    85.78125,\n",
       "    88.359375,\n",
       "    84.6875,\n",
       "    90.546875,\n",
       "    91.328125]),\n",
       "  ([12.53125,\n",
       "    75.15625,\n",
       "    78.84375,\n",
       "    86.8125,\n",
       "    90.5,\n",
       "    93.6875,\n",
       "    92.75,\n",
       "    95.375,\n",
       "    95.78125,\n",
       "    98.09375],\n",
       "   [12.34375,\n",
       "    74.609375,\n",
       "    77.421875,\n",
       "    84.21875,\n",
       "    86.40625,\n",
       "    89.140625,\n",
       "    87.96875,\n",
       "    89.296875,\n",
       "    90.078125,\n",
       "    91.640625])],\n",
       " 0.1: [([12.5,\n",
       "    12.6875,\n",
       "    50.6875,\n",
       "    12.5625,\n",
       "    12.6875,\n",
       "    12.5625,\n",
       "    12.5625,\n",
       "    12.5625,\n",
       "    12.46875,\n",
       "    12.5625],\n",
       "   [12.34375,\n",
       "    12.109375,\n",
       "    47.96875,\n",
       "    12.34375,\n",
       "    12.109375,\n",
       "    12.65625,\n",
       "    12.65625,\n",
       "    12.65625,\n",
       "    12.34375,\n",
       "    12.65625]),\n",
       "  ([53.0625,\n",
       "    82.65625,\n",
       "    88.125,\n",
       "    92.46875,\n",
       "    97.03125,\n",
       "    94.78125,\n",
       "    96.78125,\n",
       "    12.65625,\n",
       "    12.53125,\n",
       "    12.40625],\n",
       "   [53.671875,\n",
       "    80.9375,\n",
       "    86.25,\n",
       "    89.140625,\n",
       "    93.125,\n",
       "    89.296875,\n",
       "    89.0625,\n",
       "    12.5,\n",
       "    12.34375,\n",
       "    13.046875])]}"
      ]
     },
     "execution_count": 14,
     "metadata": {},
     "output_type": "execute_result"
    }
   ],
   "source": [
    "hyper_scores"
   ]
  },
  {
   "cell_type": "code",
   "execution_count": 16,
   "metadata": {},
   "outputs": [
    {
     "name": "stdout",
     "output_type": "stream",
     "text": [
      "0.001\n",
      "[12.65625   12.65625   12.65625   12.65625   12.65625   12.65625\n",
      " 12.65625   12.65625   12.7734375 12.5390625]\n",
      "0.01\n",
      "[12.34375   43.4765625 60.546875  82.5390625 83.59375   87.4609375\n",
      " 88.1640625 86.9921875 90.3125    91.484375 ]\n",
      "0.1\n",
      "[33.0078125 46.5234375 67.109375  50.7421875 52.6171875 50.9765625\n",
      " 50.859375  12.578125  12.34375   12.8515625]\n"
     ]
    }
   ],
   "source": [
    "lines = {}\n",
    "for hp in hyper_scores:\n",
    "    scores = hyper_scores[hp]\n",
    "    fold_1 = scores[0]\n",
    "    fold_2 = scores[1]\n",
    "    val_1 = fold_1[1]\n",
    "    val_2 = fold_2[1]\n",
    "    val = np.mean([val_1, val_2], axis=0)\n",
    "    print(hp)\n",
    "    print(val)\n",
    "    lines[hp] = val"
   ]
  },
  {
   "cell_type": "code",
   "execution_count": 18,
   "metadata": {},
   "outputs": [
    {
     "data": {
      "text/plain": [
       "<matplotlib.legend.Legend at 0x19e39dd2550>"
      ]
     },
     "execution_count": 18,
     "metadata": {},
     "output_type": "execute_result"
    },
    {
     "data": {
      "image/png": "[encoded data removed]",
      "text/plain": [
       "<Figure size 432x288 with 1 Axes>"
      ]
     },
     "metadata": {},
     "output_type": "display_data"
    }
   ],
   "source": [
    "fig = plt.figure()\n",
    "ax = fig.add_subplot(111)\n",
    "epochs = np.arange(len(list(lines.values())[0]))\n",
    "\n",
    "ax.plot(epochs, lines[0.001], label=\"lr = 0.001\")\n",
    "ax.plot(epochs, lines[0.01], label=\"lr = 0.01\")\n",
    "ax.plot(epochs, lines[0.1], label=\"lr = 0.1\")\n",
    "ax.grid()\n",
    "ax.set_xlabel('epochs')\n",
    "ax.set_ylabel('accuracy')\n",
    "# ax.set_facecolor('lightgray')\n",
    "# ax.spines['bottom'].set_color('white')\n",
    "# ax.spines['top'].set_color('white')\n",
    "# ax.xaxis.label.set_color('white')\n",
    "# ax.tick_params(axis='x', colors='white')\n",
    "# ax.tick_params(axis='y', colors='white')\n",
    "ax.legend()"
   ]
  }
 ],
 "metadata": {
  "kernelspec": {
   "display_name": "Python 3",
   "language": "python",
   "name": "python3"
  },
  "language_info": {
   "codemirror_mode": {
    "name": "ipython",
    "version": 3
   },
   "file_extension": ".py",
   "mimetype": "text/x-python",
   "name": "python",
   "nbconvert_exporter": "python",
   "pygments_lexer": "ipython3",
   "version": "3.6.5"
  }
 },
 "nbformat": 4,
 "nbformat_minor": 4
}
